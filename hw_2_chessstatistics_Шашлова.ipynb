{
  "cells": [
    {
      "cell_type": "markdown",
      "metadata": {
        "id": "mxpe17_2aul-"
      },
      "source": [
        "# ДЗ 2. Проверка гипотез"
      ]
    },
    {
      "cell_type": "markdown",
      "metadata": {
        "id": "S6-fWd0TaumA"
      },
      "source": [
        "Имя, Фамилия: Шашлова Елизавета\n",
        "\n",
        "группа: 224 группа\n",
        "\n",
        "**Оценка(для проверяющего):** 32 из 32\n",
        "\n",
        "**Дедлайн:** 24 ноября 23:59 (решение нужно сдать в энитаск)"
      ]
    },
    {
      "cell_type": "markdown",
      "metadata": {
        "id": "de6c24m8aumA"
      },
      "source": [
        "# Введение. Несколько слов о шахматах"
      ]
    },
    {
      "cell_type": "markdown",
      "metadata": {
        "id": "isuWo-HVaumA"
      },
      "source": [
        "В этом домашнем задании вам будет представлен набор данных связанных с шахматами. Напомним, что шахматная партия может заканчиваться одним из трёх исходов:\n",
        "- Победа белых (записывается как 1-0)\n",
        "- Победа чёрных (записывается как 0-1)\n",
        "- Ничейный исход (записывается как 1/2-1/2)\n",
        "\n",
        "Также, в соревновательных шахматах есть временной контроль: партии делятся на несколько категорий, в зависимости от того, сколько времени оппонненты имеют на размышления:\n",
        "- Блиц (до 10 минут на все ходы, возможно с добавлением времени после каждого хода)\n",
        "- Рапид (от 10 до 30 минут на все ходы, возможно с добавлением времени после каждого хода)\n",
        "- Классические или медленные шахматы (от 30 минут на все ходы, часто с добавлением времени после 40 и 60 ходов)\n",
        "\n",
        "Для того чтобы как-то классифицировать силу игроков, была введена рейтинговая система ELO, на основании которой игрокам присуждается ранг (например международный мастер или гроссмейстер) и формируются турниры. Отметим что рейтинг ELO меняется, в зависимости от того, в каком формате временного контроля игрок участвует (т.е. у одного человека разный рейтинг для блица, рапида и классических шахмат).\n",
        "\n",
        "В этом датасете собраны основные данные об шахматных партиях, сыгранными за период с 1980 по 2021 года.\n",
        "- Представлены партии всех трех форматов, формат партии указан в поле ``control``\n",
        "- Исход партии представлен в поле ``result``\n",
        "- Рейтинги оппонентов записаны в полях ``elo_white`` и ``elo_black`` для рейтинга играющих за белых и за черных соответственно.  \n",
        "    - Поле ``elo_average`` содержит среднее значение ``elo_white`` и ``elo_black`` -- _усредненный рейтинг (оппонентов)_.\n",
        "    - Поле ``elo_difference`` содержит в себе значение ``elo_white - elo_black``.\n",
        "- Поле ``opening`` содержит одно из пяти значений ``'A', 'B', 'C', 'D', 'E'``, которое кодирует информацию о нескольких первых ходах в партии (см. задачу 3 для деталей).\n",
        "- В поле ``length`` записано число сделанных ходов в партии. Обратите внимание, что ход -- это движение одной фигуры со стороны белых **и** движение одной фигуры со стороны чёрных, т.е. за один ход и белые и черные совершают по действию.\n",
        "- Поля ``date`` и ``site`` содержат информацию о том, в каком году была сыграна партия и место её проведения соответственно."
      ]
    },
    {
      "cell_type": "markdown",
      "metadata": {
        "id": "LVu4dXERaumB"
      },
      "source": [
        "## Обзор данных (2 балла)\n",
        "В этой секции вам предлагается познакомиться с данными. Посмотрите на три разных формата временного контроля. Сравните как в каждом из них\n",
        "- Распределены исходы партий (победа белых/победа чёрных/ничья)\n",
        "- Распределены усреднённые рейтинги оппонентов партий\n",
        "- Распределены длительности партий\n",
        "\n",
        "**Бонус (max 3 дополнительных балла)** При желании, можно также посмотреть другие вещи --- например как менялось количество партий по декадам или пятилеткам. Попробуйте обнаружить и _объяснить_ интересные и статистически значимые феномены.  "
      ]
    },
    {
      "cell_type": "code",
      "execution_count": null,
      "metadata": {
        "execution": {
          "iopub.execute_input": "2024-11-03T12:39:23.413475Z",
          "iopub.status.busy": "2024-11-03T12:39:23.412551Z",
          "iopub.status.idle": "2024-11-03T12:39:23.419191Z",
          "shell.execute_reply": "2024-11-03T12:39:23.417979Z",
          "shell.execute_reply.started": "2024-11-03T12:39:23.413409Z"
        },
        "id": "qRt5sL_eaumB",
        "trusted": true
      },
      "outputs": [
        {
          "ename": "",
          "evalue": "",
          "output_type": "error",
          "traceback": [
            "\u001b[1;31mДля выполнения ячеек с \"Python 3.12.4\" требуется пакет ipykernel.\n",
            "\u001b[1;31mВыполните следующую команду, чтобы установить \"ipykernel\" в среде Python. \n",
            "\u001b[1;31mКоманда: \"/opt/homebrew/bin/python3 -m pip install ipykernel -U --user --force-reinstall\""
          ]
        }
      ],
      "source": [
        "import numpy as np\n",
        "import pandas as pd\n",
        "pd.set_option('display.precision', 5)\n",
        "import scipy.stats as stats\n",
        "\n",
        "import matplotlib.pyplot as plt\n",
        "import seaborn as sns\n",
        "\n",
        "#add your imports if necessary"
      ]
    },
    {
      "cell_type": "code",
      "execution_count": null,
      "metadata": {
        "colab": {
          "base_uri": "https://localhost:8080/",
          "height": 206
        },
        "execution": {
          "iopub.execute_input": "2024-11-03T12:39:23.647649Z",
          "iopub.status.busy": "2024-11-03T12:39:23.647239Z",
          "iopub.status.idle": "2024-11-03T12:39:34.869185Z",
          "shell.execute_reply": "2024-11-03T12:39:34.868058Z",
          "shell.execute_reply.started": "2024-11-03T12:39:23.647612Z"
        },
        "id": "81VmpIE7aumC",
        "outputId": "94a355d3-3d41-4295-91df-bb11d71978ed",
        "trusted": true
      },
      "outputs": [
        {
          "ename": "",
          "evalue": "",
          "output_type": "error",
          "traceback": [
            "\u001b[1;31mДля выполнения ячеек с \"Python 3.12.4\" требуется пакет ipykernel.\n",
            "\u001b[1;31mВыполните следующую команду, чтобы установить \"ipykernel\" в среде Python. \n",
            "\u001b[1;31mКоманда: \"/opt/homebrew/bin/python3 -m pip install ipykernel -U --user --force-reinstall\""
          ]
        }
      ],
      "source": [
        "games_df = pd.read_csv(\"/content/games.csv\")\n",
        "games_df.head()"
      ]
    },
    {
      "cell_type": "code",
      "execution_count": null,
      "metadata": {
        "colab": {
          "base_uri": "https://localhost:8080/"
        },
        "execution": {
          "iopub.execute_input": "2024-11-03T12:39:34.871929Z",
          "iopub.status.busy": "2024-11-03T12:39:34.871431Z",
          "iopub.status.idle": "2024-11-03T12:39:34.888462Z",
          "shell.execute_reply": "2024-11-03T12:39:34.887096Z",
          "shell.execute_reply.started": "2024-11-03T12:39:34.871879Z"
        },
        "id": "XHC6kIFLaumC",
        "outputId": "13950ca9-7f1c-4e34-a7fa-33f851b7c089",
        "trusted": true
      },
      "outputs": [
        {
          "ename": "",
          "evalue": "",
          "output_type": "error",
          "traceback": [
            "\u001b[1;31mДля выполнения ячеек с \"Python 3.12.4\" требуется пакет ipykernel.\n",
            "\u001b[1;31mВыполните следующую команду, чтобы установить \"ipykernel\" в среде Python. \n",
            "\u001b[1;31mКоманда: \"/opt/homebrew/bin/python3 -m pip install ipykernel -U --user --force-reinstall\""
          ]
        }
      ],
      "source": [
        "games_df.info(verbose = True)"
      ]
    },
    {
      "cell_type": "code",
      "execution_count": null,
      "metadata": {
        "id": "zc-RHOmcfNyl"
      },
      "outputs": [
        {
          "ename": "",
          "evalue": "",
          "output_type": "error",
          "traceback": [
            "\u001b[1;31mДля выполнения ячеек с \"Python 3.12.4\" требуется пакет ipykernel.\n",
            "\u001b[1;31mВыполните следующую команду, чтобы установить \"ipykernel\" в среде Python. \n",
            "\u001b[1;31mКоманда: \"/opt/homebrew/bin/python3 -m pip install ipykernel -U --user --force-reinstall\""
          ]
        }
      ],
      "source": [
        "blitz_games = games_df[games_df['control'] == 'blitz']\n",
        "rapid_games = games_df[games_df['control'] == 'rapid']\n",
        "slow_games = games_df[games_df['control'] == 'slow']"
      ]
    },
    {
      "cell_type": "code",
      "execution_count": null,
      "metadata": {
        "colab": {
          "base_uri": "https://localhost:8080/",
          "height": 1000
        },
        "id": "RsrwFYsZfWov",
        "outputId": "92deeb2b-b322-4605-eb16-35b37206ab6f"
      },
      "outputs": [
        {
          "ename": "",
          "evalue": "",
          "output_type": "error",
          "traceback": [
            "\u001b[1;31mДля выполнения ячеек с \"Python 3.12.4\" требуется пакет ipykernel.\n",
            "\u001b[1;31mВыполните следующую команду, чтобы установить \"ipykernel\" в среде Python. \n",
            "\u001b[1;31mКоманда: \"/opt/homebrew/bin/python3 -m pip install ipykernel -U --user --force-reinstall\""
          ]
        }
      ],
      "source": [
        "fig, axes = plt.subplots(3, 1, figsize=(7, 10))\n",
        "\n",
        "blitz_games['result'].value_counts(normalize=True).plot.bar(ax=axes[0], title='Распределение результатов партий в блиц-играх', color='skyblue')\n",
        "axes[0].set_ylabel('Частота')\n",
        "\n",
        "rapid_games['result'].value_counts(normalize=True).plot.bar(ax=axes[1], title='Распределение результатов партий в рапид-играх', color='orange')\n",
        "axes[1].set_ylabel('Частота')\n",
        "\n",
        "slow_games['result'].value_counts(normalize=True).plot.bar(ax=axes[2], title='Распределение результатов партий в медленных играх', color='green')\n",
        "axes[2].set_ylabel('Частота')\n",
        "\n",
        "plt.tight_layout()\n",
        "plt.show()"
      ]
    },
    {
      "cell_type": "markdown",
      "metadata": {
        "id": "51-2n37bkObN"
      },
      "source": [
        "Видим, что\n",
        "\n",
        "1) Во всех трех временных контролях доминирует победа белых\n",
        "\n",
        "2) Победа черных имеет примерно одинаковое распредение на всех терх временных контролях\n",
        "\n",
        "3)Количество партий, которые закончились ничьей, становится больше с увеличением продолжительности игры. Видимо, из-за ограниченного времени игроки чаще совершают ошибки, что снижает вероятность ничьих\n",
        "\n"
      ]
    },
    {
      "cell_type": "markdown",
      "metadata": {
        "id": "ellj1dBlod16"
      },
      "source": [
        "Построим для каждого из контролей распределение усредненного рейтинга партий и длин партий."
      ]
    },
    {
      "cell_type": "code",
      "execution_count": null,
      "metadata": {
        "colab": {
          "base_uri": "https://localhost:8080/",
          "height": 1000
        },
        "id": "4DKWhS0khEuj",
        "outputId": "9c9aacf3-8cbc-4f0f-a5f6-b68c192b2ac6"
      },
      "outputs": [
        {
          "ename": "",
          "evalue": "",
          "output_type": "error",
          "traceback": [
            "\u001b[1;31mДля выполнения ячеек с \"Python 3.12.4\" требуется пакет ipykernel.\n",
            "\u001b[1;31mВыполните следующую команду, чтобы установить \"ipykernel\" в среде Python. \n",
            "\u001b[1;31mКоманда: \"/opt/homebrew/bin/python3 -m pip install ipykernel -U --user --force-reinstall\""
          ]
        }
      ],
      "source": [
        "fig, axes = plt.subplots(3, 1, figsize=(7, 10))\n",
        "\n",
        "blitz_games['elo_average'].plot.hist(ax=axes[0], bins=20, title='Распределение усредненного рейтига в блиц-играх', color='skyblue')\n",
        "axes[0].set_xlabel('Усредненный рейтинг')\n",
        "axes[0].set_ylabel('Частота')\n",
        "\n",
        "rapid_games['elo_average'].plot.hist(ax=axes[1], bins=20, title='Распределение усредненного рейтига в рапид-играх', color='orange')\n",
        "axes[1].set_xlabel('Усредненный рейтинг')\n",
        "axes[1].set_ylabel('Частота')\n",
        "\n",
        "slow_games['elo_average'].plot.hist(ax=axes[2], bins=20, title='Распределение усредненного рейтига в медленных играх', color='green')\n",
        "axes[2].set_xlabel('Усредненный рейтинг')\n",
        "axes[2].set_ylabel('Частота')\n",
        "\n",
        "plt.tight_layout()\n",
        "plt.show()"
      ]
    },
    {
      "cell_type": "code",
      "execution_count": null,
      "metadata": {
        "colab": {
          "base_uri": "https://localhost:8080/",
          "height": 1000
        },
        "id": "uhkn-fP8hlao",
        "outputId": "6cdaa6ea-d210-4762-94db-fc7459a33e1d"
      },
      "outputs": [
        {
          "ename": "",
          "evalue": "",
          "output_type": "error",
          "traceback": [
            "\u001b[1;31mДля выполнения ячеек с \"Python 3.12.4\" требуется пакет ipykernel.\n",
            "\u001b[1;31mВыполните следующую команду, чтобы установить \"ipykernel\" в среде Python. \n",
            "\u001b[1;31mКоманда: \"/opt/homebrew/bin/python3 -m pip install ipykernel -U --user --force-reinstall\""
          ]
        }
      ],
      "source": [
        "fig, axes = plt.subplots(3, 1, figsize=(7, 10))\n",
        "\n",
        "blitz_games['length'].plot.hist(ax=axes[0], bins=20, title='Распределение длительности партий в блиц-играх', color='skyblue')\n",
        "axes[0].set_xlabel('Длительность партии')\n",
        "axes[0].set_ylabel('Частота')\n",
        "\n",
        "rapid_games['length'].plot.hist(ax=axes[1], bins=20, title='Распределение длительности партий в рапид-играх', color='orange')\n",
        "axes[1].set_xlabel('Длительность партии')\n",
        "axes[1].set_ylabel('Частота')\n",
        "\n",
        "slow_games['length'].plot.hist(ax=axes[2], bins=20, title='Распределение длительности партий в медленных играх', color='green')\n",
        "axes[2].set_xlabel('Длительность партии')\n",
        "axes[2].set_ylabel('Частота')\n",
        "\n",
        "plt.tight_layout()\n",
        "plt.show()"
      ]
    },
    {
      "cell_type": "markdown",
      "metadata": {
        "id": "mJr9xumnaumD"
      },
      "source": [
        "# Задачи"
      ]
    },
    {
      "cell_type": "markdown",
      "metadata": {
        "execution": {
          "iopub.execute_input": "2024-10-30T19:32:37.350608Z",
          "iopub.status.busy": "2024-10-30T19:32:37.350060Z",
          "iopub.status.idle": "2024-10-30T19:32:37.394196Z",
          "shell.execute_reply": "2024-10-30T19:32:37.393018Z",
          "shell.execute_reply.started": "2024-10-30T19:32:37.350501Z"
        },
        "id": "qAUyQXvjaumD"
      },
      "source": [
        "## Разминка. Проверка гипотез о средних (5 баллов)"
      ]
    },
    {
      "cell_type": "markdown",
      "metadata": {
        "id": "cisSQhk5aumD"
      },
      "source": [
        "### Взгляд в прошлое. Рейтинг игр в Праге. (2 балла)\n",
        "Пусть $X_1, \\ldots, X_n \\overset{\\text{i.i.d}}{\\sim} X$ --- выборка из некоторого распределения. Вспомните как строится асимптотический доверительный интервал для $\\mathbb{E}[X]$, и, используя асимптотический z-test проверьте на уровне значимости $\\alpha = 0.05$ гипотезу о том что математическое ожидание рейтинга партии равно 2389:\n",
        "$$\n",
        "    H_0 : \\mathbb{E}[X] = 2389 \\\\\n",
        "    H_1 : \\mathbb{E}[X] \\neq 2389\n",
        "$$\n",
        "для игр, сыгранных в Праге за период 1980-1989 г."
      ]
    },
    {
      "cell_type": "markdown",
      "metadata": {
        "id": "B4sm7IGWaumD"
      },
      "source": [
        "ВАШЕ РЕШЕНИЕ И МЫСЛИ ТУТ"
      ]
    },
    {
      "cell_type": "code",
      "execution_count": null,
      "metadata": {
        "execution": {
          "iopub.execute_input": "2024-11-03T12:40:13.212605Z",
          "iopub.status.busy": "2024-11-03T12:40:13.212115Z",
          "iopub.status.idle": "2024-11-03T12:40:13.224313Z",
          "shell.execute_reply": "2024-11-03T12:40:13.223219Z",
          "shell.execute_reply.started": "2024-11-03T12:40:13.212551Z"
        },
        "id": "hE11tVsPaumD",
        "trusted": true
      },
      "outputs": [
        {
          "ename": "",
          "evalue": "",
          "output_type": "error",
          "traceback": [
            "\u001b[1;31mДля выполнения ячеек с \"Python 3.12.4\" требуется пакет ipykernel.\n",
            "\u001b[1;31mВыполните следующую команду, чтобы установить \"ipykernel\" в среде Python. \n",
            "\u001b[1;31mКоманда: \"/opt/homebrew/bin/python3 -m pip install ipykernel -U --user --force-reinstall\""
          ]
        }
      ],
      "source": [
        "from numpy.typing import ArrayLike\n",
        "from typing import Tuple, Optional, Literal\n",
        "\n",
        "hypothesis_side = Literal[\"both\", \"left\", \"right\"]\n",
        "\n",
        "\n",
        "class StatTestResult:\n",
        "    \"\"\"\n",
        "    Wrapper that carries information about performed statistical test.\n",
        "\n",
        "    Attributes\n",
        "    ----------\n",
        "    statistics : float\n",
        "        value of the test's statistics.\n",
        "    p_value : float\n",
        "        obtained p-value for the test's statistics.\n",
        "    significance : float\n",
        "        significance level for the performed test\n",
        "    critical_value : float\n",
        "        critical value of the test's statistics for the given significance level\n",
        "    test_name : str\n",
        "        name of the test\n",
        "    null_name: str\n",
        "        formulation of the null hypothesis\n",
        "    alternative_name : str\n",
        "        formulation of the alternative hypothesis\n",
        "    verdict:\n",
        "        test's verdict\n",
        "    \"\"\"\n",
        "    def __init__(self, statistics : float, p_value : float, significance : float, critical_value : float,\\\n",
        "                        test_name : str, null_name : str, alternative_name : str):\n",
        "        self.statistics = statistics\n",
        "        self.p_value = p_value\n",
        "        self.significance = significance\n",
        "        self.critical_value = critical_value\n",
        "        self.name = test_name\n",
        "        self.null = null_name\n",
        "        self.alternative = alternative_name\n",
        "\n",
        "        if (p_value < significance):\n",
        "            self.verdict = f\"Reject H0 at significance level {significance}\"\n",
        "        else:\n",
        "            self.verdict = f\"Fail to reject H0 at significance level {significance}\"\n",
        "\n",
        "    def __repr__(self):\n",
        "        return f\"\"\"\n",
        "        {self.name}.\n",
        "        H0: {self.null}\n",
        "        H1: {self.alternative}\n",
        "        ===================================\n",
        "        Statistics value: {self.statistics}. Critical value: {self.critical_value}\n",
        "        P-value: {self.p_value},\n",
        "        Verdict: {self.verdict}\n",
        "        \"\"\"\n",
        "    def __str__(self):\n",
        "        return f\"Statistics: {self.statistics}, P-value: {self.p_value}\""
      ]
    },
    {
      "cell_type": "code",
      "execution_count": null,
      "metadata": {
        "execution": {
          "iopub.execute_input": "2024-11-03T12:40:13.226693Z",
          "iopub.status.busy": "2024-11-03T12:40:13.226245Z",
          "iopub.status.idle": "2024-11-03T12:40:13.240006Z",
          "shell.execute_reply": "2024-11-03T12:40:13.238730Z",
          "shell.execute_reply.started": "2024-11-03T12:40:13.226652Z"
        },
        "id": "czr9ybIaaumD",
        "trusted": true
      },
      "outputs": [
        {
          "ename": "",
          "evalue": "",
          "output_type": "error",
          "traceback": [
            "\u001b[1;31mДля выполнения ячеек с \"Python 3.12.4\" требуется пакет ipykernel.\n",
            "\u001b[1;31mВыполните следующую команду, чтобы установить \"ipykernel\" в среде Python. \n",
            "\u001b[1;31mКоманда: \"/opt/homebrew/bin/python3 -m pip install ipykernel -U --user --force-reinstall\""
          ]
        }
      ],
      "source": [
        "def z_test_one_sample(sample : ArrayLike, null_mean : float,\n",
        "                      significance : float = 0.05, tail : hypothesis_side = 'both') -> StatTestResult:\n",
        "    \"\"\"\n",
        "        Performs asymptotic z-test for the one sample\n",
        "\n",
        "        Parameters\n",
        "        ----------\n",
        "        sample : ArrayLike\n",
        "            sample on which z-test will be performed\n",
        "        null_mean : float\n",
        "            value of mean under null hypothesis.\n",
        "        significance : float\n",
        "            significance level for the performed test\n",
        "        tail : Literal[\"both\", \"left\", \"right\"]\n",
        "            alternative side\n",
        "\n",
        "        Returns\n",
        "        -------\n",
        "        res : StatTestResult\n",
        "            An object containing infomration about test results\n",
        "    \"\"\"\n",
        "    sample_mean = np.mean(sample)\n",
        "    sample_std = sample.std()\n",
        "    n = len(sample)\n",
        "    se = sample_std / np.sqrt(n)\n",
        "    z_stat = (sample_mean - null_mean) / se\n",
        "\n",
        "    if tail == 'both':\n",
        "        p_value = 2 - 2 * stats.norm.cdf(abs(z_stat))\n",
        "        critical_value = stats.norm.ppf(1 - significance/2)\n",
        "        return StatTestResult(z_stat, p_value, significance, (critical_value, -critical_value), 'z-test', f'E[X] = {null_mean}', f'E[X] != {null_mean}')\n",
        "    elif tail == 'right':\n",
        "        p_value = 1 - stats.norm.cdf(z_stat)\n",
        "        critical_value = stats.norm.ppf(1 - significance)\n",
        "        return StatTestResult(z_stat, p_value, significance, critical_value, 'z-test', f'E[X] <= {null_mean}', f'E[X] > {null_mean}')\n",
        "\n",
        "    elif tail == 'left':\n",
        "        p_value = stats.norm.cdf(z_stat)\n",
        "        critical_value = stats.norm.ppf(significance)\n",
        "        return StatTestResult(z_stat, p_value, significance, critical_value, 'z-test', f'E[X] >= {null_mean}', f'E[X] < {null_mean}')\n"
      ]
    },
    {
      "cell_type": "code",
      "execution_count": null,
      "metadata": {
        "execution": {
          "iopub.execute_input": "2024-11-03T12:40:13.241936Z",
          "iopub.status.busy": "2024-11-03T12:40:13.241567Z",
          "iopub.status.idle": "2024-11-03T12:40:14.321027Z",
          "shell.execute_reply": "2024-11-03T12:40:14.319822Z",
          "shell.execute_reply.started": "2024-11-03T12:40:13.241899Z"
        },
        "id": "CLE7UrfOaumD",
        "trusted": true
      },
      "outputs": [
        {
          "ename": "",
          "evalue": "",
          "output_type": "error",
          "traceback": [
            "\u001b[1;31mДля выполнения ячеек с \"Python 3.12.4\" требуется пакет ipykernel.\n",
            "\u001b[1;31mВыполните следующую команду, чтобы установить \"ipykernel\" в среде Python. \n",
            "\u001b[1;31mКоманда: \"/opt/homebrew/bin/python3 -m pip install ipykernel -U --user --force-reinstall\""
          ]
        }
      ],
      "source": [
        "prague_games = games_df[(games_df['site'] == 'Prague') & (games_df['date'].between(1980, 1989))]\n",
        "\n",
        "data = prague_games['elo_average'].values"
      ]
    },
    {
      "cell_type": "code",
      "execution_count": null,
      "metadata": {
        "colab": {
          "base_uri": "https://localhost:8080/"
        },
        "id": "jnZVV23n5BHd",
        "outputId": "5e271709-1d3e-48bc-889e-f3fac1390dd2"
      },
      "outputs": [
        {
          "ename": "",
          "evalue": "",
          "output_type": "error",
          "traceback": [
            "\u001b[1;31mДля выполнения ячеек с \"Python 3.12.4\" требуется пакет ipykernel.\n",
            "\u001b[1;31mВыполните следующую команду, чтобы установить \"ipykernel\" в среде Python. \n",
            "\u001b[1;31mКоманда: \"/opt/homebrew/bin/python3 -m pip install ipykernel -U --user --force-reinstall\""
          ]
        }
      ],
      "source": [
        "z_test_one_sample(data, null_mean=2389, significance=0.05, tail=\"both\")\n"
      ]
    },
    {
      "cell_type": "markdown",
      "metadata": {
        "id": "Wk1YA6iQ60pp"
      },
      "source": [
        "### Результаты теста\n",
        "\n",
        "- **Критические значения**: \\($-1.96; 1.96)$ для двустороннего теста при уровне значимости \\($\\alpha = 0.05)$.\n",
        "- **P-value**: \\($ 0.9598)$ (значительно больше уровня значимости \\($ 0.05) $.\n",
        "\n",
        "- Мы **не отвергаем** нулевую гипотезу \\($ H_0)$ , так как наблюдаемая Z-статистика попадает в область принятия, а P-value 0.9598 значительно больше уровня значимости 0.05.\n",
        "\n",
        "\n"
      ]
    },
    {
      "cell_type": "markdown",
      "metadata": {
        "id": "zLzIDUqYaumE"
      },
      "source": [
        "### Назад в будущее. Рейтинг игр в Москве. (3 балла)\n",
        "После того как вы проверили эту гипотезу, проверьте гипотезу о том, что средний рейтинг классических партий проводимых в Москве в 2010-2019 годах выше, чем рейтинг в 2000-2009 годах. Вспомните как устроен z-тест для двух выборок и\n",
        "1. сформулируйте нулевую гипотезу и альтернативу;\n",
        "2. укажите статистику и её распределение при верной нулевой гипотезе;\n",
        "3. реализуйте тест и проверьте гипотезу на уровне значимости 0.05;"
      ]
    },
    {
      "cell_type": "markdown",
      "metadata": {
        "id": "elu4w3EzaumE"
      },
      "source": [
        "**Гипотезы:**\n",
        "\n",
        "\n",
        "- **Нулевая гипотеза** $ H_0 $ :\n",
        "  $\\\n",
        "  \\mu_{2010-2019} >= \\mu_{2000-2009}\n",
        "  $\n",
        "- **Альтернативная гипотеза**  $ H_1 $ : Средний рейтинг в 2010–2019 годах ниже, чем в 2000–2009 годах:\n",
        "  $\n",
        "  \\mu_{2010-2019} < \\mu_{2000-2009}\n",
        "  $\n",
        "\n",
        "---\n",
        "\n",
        "Статистика теста:\n",
        "Для проверки гипотезы  используем $ z $-тест для двух независимых выборок. Формула $ z $ -статистики:\n",
        "\n",
        "$\n",
        "z = \\frac{\\bar{X}_1 - \\bar{X}_2}{\\sqrt{\\frac{s_1^2}{n_1} + \\frac{s_2^2}{n_2}}}\n",
        "$\n",
        "\n",
        "Где:\n",
        "- $ \\bar{X}_1, \\bar{X}_2 $: Средние значения выборок за 2010–2019 и 2000–2009 годы соответственно.\n",
        "- $ s_1^2, s_2^2 $: Дисперсии выборок.\n",
        "- $ n_1, n_2 $: Размеры выборок.\n",
        "\n",
        "---\n",
        "При верной нулевой гипотезе распределение $ z $-статистики стремится к стандартному нормальному распределению:\n",
        "\n",
        "$\n",
        "z \\sim N(0, 1)\n",
        "$\n"
      ]
    },
    {
      "cell_type": "code",
      "execution_count": null,
      "metadata": {
        "execution": {
          "iopub.execute_input": "2024-11-03T12:40:14.326650Z",
          "iopub.status.busy": "2024-11-03T12:40:14.326239Z",
          "iopub.status.idle": "2024-11-03T12:40:14.341035Z",
          "shell.execute_reply": "2024-11-03T12:40:14.339868Z",
          "shell.execute_reply.started": "2024-11-03T12:40:14.326609Z"
        },
        "id": "fFWIBuAmaumE",
        "trusted": true
      },
      "outputs": [
        {
          "ename": "",
          "evalue": "",
          "output_type": "error",
          "traceback": [
            "\u001b[1;31mДля выполнения ячеек с \"Python 3.12.4\" требуется пакет ipykernel.\n",
            "\u001b[1;31mВыполните следующую команду, чтобы установить \"ipykernel\" в среде Python. \n",
            "\u001b[1;31mКоманда: \"/opt/homebrew/bin/python3 -m pip install ipykernel -U --user --force-reinstall\""
          ]
        }
      ],
      "source": [
        "def z_test_two_sample(sample_x : ArrayLike, sample_y : ArrayLike, null_mean_diff : float = 0,\n",
        "                      significance : float = 0.05, tail : hypothesis_side = 'both') -> StatTestResult:\n",
        "    \"\"\"\n",
        "        Performs asymptotic z-test for the two samples\n",
        "\n",
        "        Parameters\n",
        "        ----------\n",
        "        sample_x : ArrayLike\n",
        "            first sample for the z-test\n",
        "        sample_y : ArrayLike\n",
        "            second sample for the z-test\n",
        "        null_mean_diff : float\n",
        "            differences of means under null hypothesis.\n",
        "        significance : float\n",
        "            significance level for the performed test\n",
        "        tail : Literal[\"both\", \"left\", \"right\"]\n",
        "            alternative side\n",
        "\n",
        "        Returns\n",
        "        -------\n",
        "        res : StatTestResult\n",
        "            An object containing infomration about test results\n",
        "    \"\"\"\n",
        "\n",
        "    mean_x, mean_y = np.mean(sample_x), np.mean(sample_y)\n",
        "    std_x, std_y = sample_x.std(), sample_y.std()\n",
        "    n_x, n_y = len(sample_x), len(sample_y)\n",
        "    se = np.sqrt((std_x**2 / n_x) + (std_y**2 / n_y))\n",
        "    z_stat = (mean_x - mean_y - null_mean_diff) / se\n",
        "\n",
        "    if tail == 'both':\n",
        "        p_value = 2 * (1 - stats.norm.cdf(abs(z_stat)))\n",
        "        critical_value = stats.norm.ppf(1 - significance / 2)\n",
        "        return StatTestResult(z_stat, p_value, significance,\n",
        "                              (-critical_value, critical_value),\n",
        "                              'z-test',\n",
        "                              f'E[X] - E[Y] = {null_mean_diff}',\n",
        "                              f'E[X] - E[Y] != {null_mean_diff}')\n",
        "    elif tail == 'right':\n",
        "        p_value = 1 - stats.norm.cdf(z_stat)\n",
        "        critical_value = stats.norm.ppf(1 - significance)\n",
        "        return StatTestResult(z_stat, p_value, significance,\n",
        "                              critical_value,\n",
        "                              'z-test',\n",
        "                              f'E[X] - E[Y] <= {null_mean_diff}',\n",
        "                              f'E[X] - E[Y] > {null_mean_diff}')\n",
        "    elif tail == 'left':\n",
        "        p_value = stats.norm.cdf(z_stat)\n",
        "        critical_value = stats.norm.ppf(significance)\n",
        "        return StatTestResult(z_stat, p_value, significance,\n",
        "                              critical_value,\n",
        "                              'z-test',\n",
        "                              f'E[X] - E[Y] >= {null_mean_diff}',\n",
        "                              f'E[X] - E[Y] < {null_mean_diff}')"
      ]
    },
    {
      "cell_type": "code",
      "execution_count": null,
      "metadata": {
        "execution": {
          "iopub.execute_input": "2024-11-03T12:40:14.342912Z",
          "iopub.status.busy": "2024-11-03T12:40:14.342537Z",
          "iopub.status.idle": "2024-11-03T12:40:16.423614Z",
          "shell.execute_reply": "2024-11-03T12:40:16.422563Z",
          "shell.execute_reply.started": "2024-11-03T12:40:14.342875Z"
        },
        "id": "uMokPWBRaumE",
        "trusted": true
      },
      "outputs": [
        {
          "ename": "",
          "evalue": "",
          "output_type": "error",
          "traceback": [
            "\u001b[1;31mДля выполнения ячеек с \"Python 3.12.4\" требуется пакет ipykernel.\n",
            "\u001b[1;31mВыполните следующую команду, чтобы установить \"ipykernel\" в среде Python. \n",
            "\u001b[1;31mКоманда: \"/opt/homebrew/bin/python3 -m pip install ipykernel -U --user --force-reinstall\""
          ]
        }
      ],
      "source": [
        "data_x = games_df[(games_df['site'] == 'Moscow') &\n",
        "                  (games_df['date'].between(2010, 2019)) &\n",
        "                  (games_df['control'] == 'slow')]['elo_average'].values\n",
        "\n",
        "data_y = games_df[(games_df['site'] == 'Moscow') &\n",
        "                  (games_df['date'].between(2000, 2009)) &\n",
        "                  (games_df['control'] == 'slow')]['elo_average'].values\n"
      ]
    },
    {
      "cell_type": "code",
      "execution_count": null,
      "metadata": {
        "colab": {
          "base_uri": "https://localhost:8080/"
        },
        "id": "oAPOeX7_PidQ",
        "outputId": "7d2483a4-7170-492c-8d02-fd5c98e9ee29"
      },
      "outputs": [
        {
          "ename": "",
          "evalue": "",
          "output_type": "error",
          "traceback": [
            "\u001b[1;31mДля выполнения ячеек с \"Python 3.12.4\" требуется пакет ipykernel.\n",
            "\u001b[1;31mВыполните следующую команду, чтобы установить \"ipykernel\" в среде Python. \n",
            "\u001b[1;31mКоманда: \"/opt/homebrew/bin/python3 -m pip install ipykernel -U --user --force-reinstall\""
          ]
        }
      ],
      "source": [
        "z_test_two_sample(data_x, data_y, null_mean_diff=0, significance=0.05, tail=\"left\")"
      ]
    },
    {
      "cell_type": "markdown",
      "metadata": {
        "id": "WGIvEWyKaumE"
      },
      "source": [
        "**Результаты теста** :\n",
        "\n",
        "**P-value**: $ 3.69 \\times 10^{-61}$ (крайне мало, гораздо меньше уровня значимости $\\alpha = 0.05 $ ).\n",
        "\n",
        "\n",
        "Мы отвергаем нулевую гипотезу $ H_0 $  на уровне значимости $\\alpha = 0.05 $.\n",
        "\n",
        "На основе полученных данных можно сделать вывод, что средний рейтинг классических партий, проводимых в Москве в 2010–2019 годах, значительно ниже, чем в 2000–2009 годах.\n"
      ]
    },
    {
      "cell_type": "markdown",
      "metadata": {
        "id": "wr85D7XwaumE"
      },
      "source": [
        "## Задача 1. Инфляция рейтинга (5 баллов)\n",
        "\n",
        "В течение времени правила подсчета рейтинга менялись. Для сравнения возьмем партии в классическом временном контроле и их рейтинги за периоды 2000-2009 года и 2010-2019 год. Нарисуйте гистограммы, которые описывают распределение усредненных рейтингов оппонентов в партиях за эти периоды."
      ]
    },
    {
      "cell_type": "code",
      "execution_count": null,
      "metadata": {
        "execution": {
          "iopub.execute_input": "2024-11-03T12:40:16.425589Z",
          "iopub.status.busy": "2024-11-03T12:40:16.425072Z",
          "iopub.status.idle": "2024-11-03T12:40:19.113638Z",
          "shell.execute_reply": "2024-11-03T12:40:19.112343Z",
          "shell.execute_reply.started": "2024-11-03T12:40:16.425546Z"
        },
        "id": "qq3st7JQaumE",
        "trusted": true
      },
      "outputs": [
        {
          "ename": "",
          "evalue": "",
          "output_type": "error",
          "traceback": [
            "\u001b[1;31mДля выполнения ячеек с \"Python 3.12.4\" требуется пакет ipykernel.\n",
            "\u001b[1;31mВыполните следующую команду, чтобы установить \"ipykernel\" в среде Python. \n",
            "\u001b[1;31mКоманда: \"/opt/homebrew/bin/python3 -m pip install ipykernel -U --user --force-reinstall\""
          ]
        }
      ],
      "source": [
        "slow_2000_2009 = games_df[(games_df['control'] == 'slow') & (games_df['date'].between(2000, 2009))]['elo_average'].values\n",
        "slow_2010_2019 = games_df[(games_df['control'] == 'slow') & (games_df['date'].between(2010, 2019))]['elo_average'].values"
      ]
    },
    {
      "cell_type": "code",
      "execution_count": null,
      "metadata": {
        "colab": {
          "base_uri": "https://localhost:8080/",
          "height": 807
        },
        "id": "A3Yg-fOFSox3",
        "outputId": "c9b3a980-6a5e-4773-d67b-30b4919176d2"
      },
      "outputs": [
        {
          "ename": "",
          "evalue": "",
          "output_type": "error",
          "traceback": [
            "\u001b[1;31mДля выполнения ячеек с \"Python 3.12.4\" требуется пакет ipykernel.\n",
            "\u001b[1;31mВыполните следующую команду, чтобы установить \"ipykernel\" в среде Python. \n",
            "\u001b[1;31mКоманда: \"/opt/homebrew/bin/python3 -m pip install ipykernel -U --user --force-reinstall\""
          ]
        }
      ],
      "source": [
        "fig, axs = plt.subplots(2, 1, figsize=(10, 8))\n",
        "\n",
        "axs[0].hist(slow_2000_2009, bins=30, alpha=0.7, color='blue', edgecolor='black')\n",
        "axs[0].set_title(\"Распределение усредненного рейтинга в классическом формате (2000-2009 гг.)\")\n",
        "axs[0].set_xlabel('Рейтинг')\n",
        "axs[0].set_ylabel('Частота')\n",
        "\n",
        "axs[1].hist(slow_2010_2019, bins=30, alpha=0.7, color='green', edgecolor='black')\n",
        "axs[1].set_title(\"Распределение усредненного рейтинга в классическом формате (2010-2019 гг.)\")\n",
        "axs[1].set_xlabel('Рейтинг')\n",
        "axs[1].set_ylabel('Частота')\n",
        "\n",
        "plt.tight_layout()\n",
        "plt.show()"
      ]
    },
    {
      "cell_type": "markdown",
      "metadata": {
        "id": "QPOEoPM_aumE"
      },
      "source": [
        "Распространено мнение, что в силу изменений правил подсчета, высокий рейтинг стало получить легче --- произошла инфляция рейтинга. Проверьте, так ли это на самом деле, с помощью рангового критерия [Уилкоксона-Манна-Уитни](http://www.machinelearning.ru/wiki/index.php?title=Критерий_Уилкоксона-Манна-Уитни). В качестве распределения статистики можете брать подходящую аппроксимацию нормальным распределением с поправкой на повторяющиеся значения. Как и ранее,\n",
        "1. сформулируйте нулевую гипотезу и альтернативу; объясните смысл математической формулировки нулевой гипотезы;\n",
        "2. укажите статистику и её распределение при верной нулевой гипотезе;\n",
        "3. реализуйте тест и проверьте гипотезу на уровне значимости 0.05;"
      ]
    },
    {
      "cell_type": "markdown",
      "metadata": {
        "id": "V9ffcYjyaumE"
      },
      "source": [
        "**Гипотезы :**\n",
        "\n",
        "\n",
        "\n",
        "- **Нулевая гипотеза $ H_0 $**: Вероятность того, что рейтинг в период 2010-2019 выше, чем рейтинг в период 2000-2009, не меньше 1/2.\n",
        "  $\n",
        "  H_0: P(X > Y) \\geq \\frac{1}{2}\n",
        "  $\n",
        "\n",
        "- **Альтернативная гипотеза $ H_1 $**: Вероятность того, что рейтинг в период 2010-2019 выше, чем рейтинг в период 2000-2009, меньше 1/2.\n",
        "  $\n",
        "  H_1: P(X > Y) < \\frac{1}{2}\n",
        "  $\n",
        "\n",
        "Где $ X $ — рейтинги в период 2010-2019 годов, $ Y $ — рейтинги в период 2000-2009 годов.\n",
        "\n",
        "Альтернативная гипотеза предполагает, что вероятность  меньше 1/2, что указывает на инфляцию рейтинга.\n",
        "\n",
        "**Статистики и распределение:**\n",
        "\n",
        "- **Статистика $ U_X $** для выборки $X$:\n",
        "\n",
        "  $\n",
        "  U_X = n_X n_Y + \\frac{n_X (n_X + 1)}{2} - R_X,\n",
        "  $\n",
        "  где:\n",
        "  - $ n_X $ и $ n_Y $ — размеры двух выборок.\n",
        "  - $ R_X $ — сумма рангов значений выборки $ X $.\n",
        "\n",
        "- **Статистика  $ U_Y $** для выборки $Y$:\n",
        "\n",
        "  $\n",
        "  U_Y = n_X n_Y + \\frac{n_Y (n_Y + 1)}{2} - R_Y,\n",
        "  $\n",
        "  где:\n",
        "  - $ n_X $ и $ n_Y $ — размеры двух выборок.\n",
        "  - $ R_Y $ — сумма рангов значений выборки $ Y $.\n",
        "\n",
        "\n",
        "- **Распределение статистики**:\n",
        "  При условии верности нулевой гипотезы $ H_0 $, нормализованная и центрированная статистика Манна-Уитни стремится к стандартному нормальному распределению:\n",
        "\n",
        "  $\n",
        "  \\tilde{U} = \\frac{U - \\frac{1}{2}mn}{\\sqrt{\\frac{1}{12}mn(n+m+1)}}\n",
        "  $\n",
        "\n",
        "  где $ m = n_X $ и $ n = n_Y $.\n"
      ]
    },
    {
      "cell_type": "code",
      "execution_count": null,
      "metadata": {
        "execution": {
          "iopub.execute_input": "2024-11-03T12:40:19.115795Z",
          "iopub.status.busy": "2024-11-03T12:40:19.115315Z",
          "iopub.status.idle": "2024-11-03T12:40:19.134000Z",
          "shell.execute_reply": "2024-11-03T12:40:19.132720Z",
          "shell.execute_reply.started": "2024-11-03T12:40:19.115742Z"
        },
        "id": "kImzkkM3aumE",
        "trusted": true
      },
      "outputs": [
        {
          "ename": "",
          "evalue": "",
          "output_type": "error",
          "traceback": [
            "\u001b[1;31mДля выполнения ячеек с \"Python 3.12.4\" требуется пакет ipykernel.\n",
            "\u001b[1;31mВыполните следующую команду, чтобы установить \"ipykernel\" в среде Python. \n",
            "\u001b[1;31mКоманда: \"/opt/homebrew/bin/python3 -m pip install ipykernel -U --user --force-reinstall\""
          ]
        }
      ],
      "source": [
        "from scipy.stats import rankdata # this can help. See docs.\n",
        "\n",
        "def mwu_test(sample_x : ArrayLike, sample_y : ArrayLike, significance : float = 0.05, tail : hypothesis_side = 'both') -> StatTestResult:\n",
        "    \"\"\"\n",
        "        Performs Mann–Whitney U-test with correct support for ties in the data.\n",
        "        REMARK: Test uses normal approximation for the distribution of test statistics\n",
        "                under null hypothesis.\n",
        "\n",
        "        Parameters\n",
        "        ----------\n",
        "        sample_x : ArrayLike\n",
        "            first sample for the U-test\n",
        "        sample_y : ArrayLike\n",
        "            second sample for the U-test\n",
        "        significance : float\n",
        "            significance level for the performed test\n",
        "        tail : Literal[\"both\", \"left\", \"right\"]\n",
        "            alternative side\n",
        "\n",
        "        Returns\n",
        "        -------\n",
        "        res : StatTestResult\n",
        "            An object containing infomration about test results\n",
        "    \"\"\"\n",
        "\n",
        "    combined = np.concatenate([sample_x, sample_y])\n",
        "    ranks = rankdata(combined)\n",
        "\n",
        "    ranks_x = ranks[:len(sample_x)]\n",
        "    ranks_y = ranks[len(sample_x):]\n",
        "\n",
        "    R_x = np.sum(ranks_x)\n",
        "    R_y = np.sum(ranks_y)\n",
        "\n",
        "    n_x = len(sample_x)\n",
        "    n_y = len(sample_y)\n",
        "    n = n_x + n_y\n",
        "\n",
        "    U_x = n_x * n_y + (n_x * (n_x + 1)) / 2 - R_x\n",
        "    U_y = n_x * n_y + (n_y * (n_y + 1)) / 2 - R_y\n",
        "    U = min(U_x, U_y)\n",
        "\n",
        "    unique, counts = np.unique(ranks, return_counts=True)\n",
        "    t_k = np.sum((counts**3 - counts) / (n**2 - n))\n",
        "\n",
        "    mean_U = n_x * n_y / 2\n",
        "    std_U = np.sqrt(n_x * n_y * (n + 1 - t_k) / 12)\n",
        "    z = (U - mean_U) / std_U\n",
        "\n",
        "    if tail == 'both':\n",
        "        p_value = 2 * (1 - stats.norm.cdf(abs(z)))\n",
        "        crit_value = stats.norm.ppf(1 - significance / 2)\n",
        "        return StatTestResult(z, p_value, significance, crit_value, 'Mann-Whitney U-test',\n",
        "                              f'P(X > Y) >= 1/2', f'P(X > Y) != 1/2')\n",
        "    elif tail == 'right':\n",
        "        p_value = 1 - stats.norm.cdf(z)\n",
        "        crit_value = stats.norm.ppf(1 - significance)\n",
        "        return StatTestResult(z, p_value, significance, crit_value, 'Mann-Whitney U-test',\n",
        "                              f'P(X > Y) >= 1/2', f'P(X > Y) < 1/2')\n",
        "    elif tail == 'left':\n",
        "        p_value = stats.norm.cdf(z)\n",
        "        crit_value = stats.norm.ppf(significance)\n",
        "        return StatTestResult(z, p_value, significance, crit_value, 'Mann-Whitney U-test',\n",
        "                              f'P(X > Y) <= 1/2', f'P(X > Y) > 1/2')\n"
      ]
    },
    {
      "cell_type": "code",
      "execution_count": null,
      "metadata": {
        "colab": {
          "base_uri": "https://localhost:8080/"
        },
        "execution": {
          "iopub.execute_input": "2024-11-03T12:40:19.136143Z",
          "iopub.status.busy": "2024-11-03T12:40:19.135659Z",
          "iopub.status.idle": "2024-11-03T12:40:20.403668Z",
          "shell.execute_reply": "2024-11-03T12:40:20.402464Z",
          "shell.execute_reply.started": "2024-11-03T12:40:19.136070Z"
        },
        "id": "X8HxlnHYaumE",
        "outputId": "1e7f99bb-ecdd-475f-d7a3-cc9c143909af",
        "trusted": true
      },
      "outputs": [
        {
          "ename": "",
          "evalue": "",
          "output_type": "error",
          "traceback": [
            "\u001b[1;31mДля выполнения ячеек с \"Python 3.12.4\" требуется пакет ipykernel.\n",
            "\u001b[1;31mВыполните следующую команду, чтобы установить \"ipykernel\" в среде Python. \n",
            "\u001b[1;31mКоманда: \"/opt/homebrew/bin/python3 -m pip install ipykernel -U --user --force-reinstall\""
          ]
        }
      ],
      "source": [
        "data_2000_2009 = games_df[(games_df['date'] >= 2000) & (games_df['date'] <= 2009) & (games_df['control'] == 'slow')]['elo_average']\n",
        "data_2010_2019 = games_df[(games_df['date'] >= 2010) & (games_df['date'] <= 2019) & (games_df['control'] == 'slow')]['elo_average']\n",
        "\n",
        "mwu_test(data_2010_2019, data_2000_2009, significance=0.05, tail=\"left\")\n"
      ]
    },
    {
      "cell_type": "markdown",
      "metadata": {
        "id": "ALgQDQdFaumE"
      },
      "source": [
        "Результаты теста показывают, что средний рейтинг в классических партиях в период 2010-2019 годов действительно выше, чем рейтинг в период 2000-2009 годов, что указывает на наличие инфляции рейтинга."
      ]
    },
    {
      "cell_type": "markdown",
      "metadata": {
        "id": "yO6URNdoaumF"
      },
      "source": [
        "## Задача 2. Рейтинги и исход партий (7.5 баллов)"
      ]
    },
    {
      "cell_type": "markdown",
      "metadata": {
        "id": "p3ruBjNKaumF"
      },
      "source": [
        "Исследуйте как, в зависимости от рейтинга участников, меняется распределение исхода партии. Мы предлагаем вам изучить как\n",
        "- Разница в рейтинге влияет на шансы на результативный исход (победа одной из сторон)\n",
        "- С ростом среднего рейтинга участников меняются шансы на победу"
      ]
    },
    {
      "cell_type": "markdown",
      "metadata": {
        "id": "WnlC9Q0_aumF"
      },
      "source": [
        "### Разрыв рейтинга и шансы на победу (5 баллов)"
      ]
    },
    {
      "cell_type": "markdown",
      "metadata": {
        "id": "29e95zDNaumF"
      },
      "source": [
        "Нарисуйте гистограммы, показывающее как устроены исходы партий в зависимости от разницы в рейтинге для партий в разных формах временного контролля."
      ]
    },
    {
      "cell_type": "code",
      "execution_count": null,
      "metadata": {
        "colab": {
          "base_uri": "https://localhost:8080/",
          "height": 1000
        },
        "execution": {
          "iopub.execute_input": "2024-11-03T12:40:20.405359Z",
          "iopub.status.busy": "2024-11-03T12:40:20.405031Z",
          "iopub.status.idle": "2024-11-03T12:40:36.109777Z",
          "shell.execute_reply": "2024-11-03T12:40:36.108604Z",
          "shell.execute_reply.started": "2024-11-03T12:40:20.405323Z"
        },
        "id": "2CP7cFi-aumF",
        "outputId": "7a4d1229-bdb0-43fd-8407-62154aeebb84",
        "trusted": true
      },
      "outputs": [
        {
          "ename": "",
          "evalue": "",
          "output_type": "error",
          "traceback": [
            "\u001b[1;31mДля выполнения ячеек с \"Python 3.12.4\" требуется пакет ipykernel.\n",
            "\u001b[1;31mВыполните следующую команду, чтобы установить \"ipykernel\" в среде Python. \n",
            "\u001b[1;31mКоманда: \"/opt/homebrew/bin/python3 -m pip install ipykernel -U --user --force-reinstall\""
          ]
        }
      ],
      "source": [
        "fig, axs = plt.subplots(3, 1, figsize=(8, 16))\n",
        "\n",
        "slow_games.groupby('result')['elo_difference'].plot.hist(ax=axs[0], alpha=0.5, legend=True, bins=30)\n",
        "axs[0].set_title(\"Распределение разницы в рейтинге относительно исхода партии в медленных играх\")\n",
        "axs[0].set_xlabel(\"Разница в рейтинге\")\n",
        "axs[0].set_ylabel(\"Частота\")\n",
        "\n",
        "rapid_games.groupby('result')['elo_difference'].plot.hist(ax=axs[1], alpha=0.5, legend=True, bins=30)\n",
        "axs[1].set_title(\"Распределение разницы в рейтинге относительно исхода партии в рапид играх\")\n",
        "axs[1].set_xlabel(\"Разница в рейтинге\")\n",
        "axs[1].set_ylabel(\"Частота\")\n",
        "\n",
        "blitz_games.groupby('result')['elo_difference'].plot.hist(ax=axs[2], alpha=0.5, legend=True, bins=30)\n",
        "axs[2].set_title(\"Распределение разницы в рейтинге относительно исхода партии в блиц играх\")\n",
        "axs[2].set_xlabel(\"Разница в рейтинге\")\n",
        "axs[2].set_ylabel(\"Частота\")\n",
        "\n",
        "plt.tight_layout()\n",
        "plt.show()\n",
        "\n",
        "\n"
      ]
    },
    {
      "cell_type": "markdown",
      "metadata": {
        "id": "biVdvFxcaumM"
      },
      "source": [
        "Проверьте гипотезу \"симметрии\":\n",
        "> Правда ли что шансы победы белых при разрыве рейтинга между участниками в $X$ пунктов такие же, как шансы на победу чёрных при разрыве рейтинга в $-X$ пунктов?\n",
        "\n",
        "Для проверки такой гипотезы будем использовать критерий $\\chi^2$ для проверки независимости факторов.\n",
        "- Подумайте, как должна выглядеть факторная таблица в этом случае?\n",
        "- Сформулируйте как интерпретировать нулевую гипотезу критерия $\\chi^2$ в контексте проверяемой нами гипотезы.\n",
        "- Реализуйте проверку гипотезы."
      ]
    },
    {
      "cell_type": "markdown",
      "metadata": {
        "id": "fl_iOyZxaumM"
      },
      "source": [
        "**Факторная таблица:**\n",
        "\n",
        "Столбцы представляют исходы партии: победа белых и победа черных.\n",
        "Строки представляют величину разрыва в рейтинге: положительное значение разрыва (X, когда белые имеют преимущество) и отрицательное значение разрыва (-X, когда черные имеют преимущество)"
      ]
    },
    {
      "cell_type": "markdown",
      "metadata": {
        "id": "HgmwQZo826kD"
      },
      "source": [
        "### Интерпретация гипотезы с критерием $ \\chi^2\\ $:\n",
        "\n",
        "Мы проверяем независимость факторов: исхода партии (победа белых/черных) и разрыва в рейтинге.  \n",
        "Если критерий $\\chi^2\\$ даст p-value меньше уровня значимости = 0.05, это означает, что между этими факторами существует зависимость, и мы отвергаем нулевую гипотезу о симметрии.\n"
      ]
    },
    {
      "cell_type": "code",
      "execution_count": null,
      "metadata": {
        "execution": {
          "iopub.execute_input": "2024-11-03T12:40:36.111778Z",
          "iopub.status.busy": "2024-11-03T12:40:36.111310Z",
          "iopub.status.idle": "2024-11-03T12:40:36.122487Z",
          "shell.execute_reply": "2024-11-03T12:40:36.121152Z",
          "shell.execute_reply.started": "2024-11-03T12:40:36.111726Z"
        },
        "id": "dJ8Ixh5faumM",
        "trusted": true
      },
      "outputs": [
        {
          "ename": "",
          "evalue": "",
          "output_type": "error",
          "traceback": [
            "\u001b[1;31mДля выполнения ячеек с \"Python 3.12.4\" требуется пакет ipykernel.\n",
            "\u001b[1;31mВыполните следующую команду, чтобы установить \"ipykernel\" в среде Python. \n",
            "\u001b[1;31mКоманда: \"/opt/homebrew/bin/python3 -m pip install ipykernel -U --user --force-reinstall\""
          ]
        }
      ],
      "source": [
        "def chi2_contingency(observed : ArrayLike, significance : float = 0.05) -> StatTestResult:\n",
        "    \"\"\"\n",
        "        Performs chi-square independence test test for contingency table\n",
        "\n",
        "        Parameters\n",
        "        ----------\n",
        "        observed : ArrayLike\n",
        "            contingency tablefor the test\n",
        "        significance : float\n",
        "            significance level for the performed test\n",
        "\n",
        "        Returns\n",
        "        -------\n",
        "        res : StatTestResult\n",
        "            An object containing infomration about test results\n",
        "    \"\"\"\n",
        "    observed = np.array(observed)\n",
        "\n",
        "    n = np.sum(observed)\n",
        "\n",
        "    num_rows, num_cols = observed.shape\n",
        "    dof = (num_rows - 1) * (num_cols - 1)\n",
        "\n",
        "    row_sums = np.sum(observed, axis=1).reshape(-1, 1)\n",
        "    col_sums = np.sum(observed, axis=0).reshape(1, -1)\n",
        "    expected = (row_sums @ col_sums) / n\n",
        "\n",
        "    chi2_stat = np.sum(((observed - expected) ** 2) / expected)\n",
        "    p_value = 1 - stats.chi2.cdf(chi2_stat, dof)\n",
        "    critical_value = stats.chi2.ppf(1 - significance, dof)\n",
        "\n",
        "    null_name = \"The outcome of the game is independent of the elo difference\"\n",
        "    alternative_name = \"The outcome of the game depends on the elo difference\"\n",
        "\n",
        "    return StatTestResult(\n",
        "        statistics=chi2_stat,\n",
        "        p_value=p_value,\n",
        "        significance=significance,\n",
        "        critical_value=critical_value,\n",
        "        test_name=\"Chi-Squared Independence Test\",\n",
        "        null_name=null_name,\n",
        "        alternative_name=alternative_name\n",
        "    )\n",
        "\n",
        "\n"
      ]
    },
    {
      "cell_type": "markdown",
      "metadata": {
        "id": "bo9yxfq2aumM"
      },
      "source": [
        "Проверьте сформулированную выше гипотезу для ваших данных:"
      ]
    },
    {
      "cell_type": "code",
      "execution_count": null,
      "metadata": {
        "execution": {
          "iopub.execute_input": "2024-11-03T12:40:39.116184Z",
          "iopub.status.busy": "2024-11-03T12:40:39.115790Z",
          "iopub.status.idle": "2024-11-03T12:40:39.170345Z",
          "shell.execute_reply": "2024-11-03T12:40:39.169169Z",
          "shell.execute_reply.started": "2024-11-03T12:40:39.116138Z"
        },
        "id": "44Y8MKnKaumM",
        "trusted": true
      },
      "outputs": [
        {
          "ename": "",
          "evalue": "",
          "output_type": "error",
          "traceback": [
            "\u001b[1;31mДля выполнения ячеек с \"Python 3.12.4\" требуется пакет ipykernel.\n",
            "\u001b[1;31mВыполните следующую команду, чтобы установить \"ipykernel\" в среде Python. \n",
            "\u001b[1;31mКоманда: \"/opt/homebrew/bin/python3 -m pip install ipykernel -U --user --force-reinstall\""
          ]
        }
      ],
      "source": [
        "agg_white = games_df[games_df['result'] == '1-0'].groupby('elo_difference').size().reset_index(name='white_wins')\n",
        "agg_black = games_df[games_df['result'] == '0-1'].groupby('elo_difference').size().reset_index(name='black_wins')\n",
        "agg_black['elo_difference'] = -agg_black['elo_difference']\n",
        "merged_table = pd.merge(agg_white, agg_black, on='elo_difference', how='outer').fillna(0)"
      ]
    },
    {
      "cell_type": "code",
      "execution_count": null,
      "metadata": {
        "colab": {
          "base_uri": "https://localhost:8080/",
          "height": 424
        },
        "id": "YnUgMpNmYklY",
        "outputId": "7fe491ae-541b-49ec-8c0a-b35f1ecc260f"
      },
      "outputs": [
        {
          "ename": "",
          "evalue": "",
          "output_type": "error",
          "traceback": [
            "\u001b[1;31mДля выполнения ячеек с \"Python 3.12.4\" требуется пакет ipykernel.\n",
            "\u001b[1;31mВыполните следующую команду, чтобы установить \"ipykernel\" в среде Python. \n",
            "\u001b[1;31mКоманда: \"/opt/homebrew/bin/python3 -m pip install ipykernel -U --user --force-reinstall\""
          ]
        }
      ],
      "source": [
        "merged_table.drop(columns=['elo_difference'], inplace=True)\n",
        "merged_table"
      ]
    },
    {
      "cell_type": "code",
      "execution_count": null,
      "metadata": {
        "colab": {
          "base_uri": "https://localhost:8080/"
        },
        "id": "_-2-ukCvIZBM",
        "outputId": "9799cb61-260b-4677-9df8-a328ca93e7f7"
      },
      "outputs": [
        {
          "ename": "",
          "evalue": "",
          "output_type": "error",
          "traceback": [
            "\u001b[1;31mДля выполнения ячеек с \"Python 3.12.4\" требуется пакет ipykernel.\n",
            "\u001b[1;31mВыполните следующую команду, чтобы установить \"ipykernel\" в среде Python. \n",
            "\u001b[1;31mКоманда: \"/opt/homebrew/bin/python3 -m pip install ipykernel -U --user --force-reinstall\""
          ]
        }
      ],
      "source": [
        "chi2_contingency(merged_table.to_numpy(), significance=0.05)"
      ]
    },
    {
      "cell_type": "markdown",
      "metadata": {
        "id": "bC-fH6GbaumM"
      },
      "source": [
        "**Заключение**: получилось, что гипотеза неверна, симметрия не наблюдается"
      ]
    },
    {
      "cell_type": "markdown",
      "metadata": {
        "id": "LgWlxRmyaumM"
      },
      "source": [
        "### Средний рейтинг и распределение исходов (2.5 балла)\n",
        "Существует распространеное мнение, что чем выше рейтинг участников партии, тем более вероятно, что итогом партии станет ничья. Постройте гистограммы показывающее как устроены исходы партий в зависимости от рейтинга партии (``elo_average``) для партий в разных формах временного контролля."
      ]
    },
    {
      "cell_type": "code",
      "execution_count": null,
      "metadata": {
        "colab": {
          "base_uri": "https://localhost:8080/",
          "height": 1000
        },
        "execution": {
          "iopub.execute_input": "2024-11-03T12:40:39.172550Z",
          "iopub.status.busy": "2024-11-03T12:40:39.172084Z",
          "iopub.status.idle": "2024-11-03T12:40:54.986912Z",
          "shell.execute_reply": "2024-11-03T12:40:54.985575Z",
          "shell.execute_reply.started": "2024-11-03T12:40:39.172478Z"
        },
        "id": "yR9ecNzEaumM",
        "outputId": "a673b6c8-fb30-4264-8c5f-92219642833e",
        "trusted": true
      },
      "outputs": [
        {
          "ename": "",
          "evalue": "",
          "output_type": "error",
          "traceback": [
            "\u001b[1;31mДля выполнения ячеек с \"Python 3.12.4\" требуется пакет ipykernel.\n",
            "\u001b[1;31mВыполните следующую команду, чтобы установить \"ipykernel\" в среде Python. \n",
            "\u001b[1;31mКоманда: \"/opt/homebrew/bin/python3 -m pip install ipykernel -U --user --force-reinstall\""
          ]
        }
      ],
      "source": [
        "fig, axs = plt.subplots(3, 1, figsize=(8, 16))\n",
        "\n",
        "axs[0].set_title(\"Распределение среднего рейтинга относительно результата в медленных партиях\")\n",
        "sns.histplot(data=slow_games, x='elo_average', hue='result', multiple='stack', ax=axs[0])\n",
        "axs[0].set_xlabel(\"Средний рейтинг участников (elo_average)\")\n",
        "axs[0].set_ylabel(\"Частота\")\n",
        "\n",
        "axs[1].set_title(\"Распределение среднего рейтинга относительно результата в рапид партиях\")\n",
        "sns.histplot(data=rapid_games, x='elo_average', hue='result', multiple='stack', ax=axs[1])\n",
        "axs[1].set_xlabel(\"Средний рейтинг участников (elo_average)\")\n",
        "axs[1].set_ylabel(\"Частота\")\n",
        "\n",
        "axs[2].set_title(\"Распределение среднего рейтинга относительно результата в блиц партиях\")\n",
        "sns.histplot(data=blitz_games, x='elo_average', hue='result', multiple='stack', ax=axs[2])\n",
        "axs[2].set_xlabel(\"Средний рейтинг участников (elo_average)\")\n",
        "axs[2].set_ylabel(\"Частота\")\n",
        "\n",
        "plt.tight_layout()\n",
        "plt.show()"
      ]
    },
    {
      "cell_type": "markdown",
      "metadata": {
        "id": "GXEvBe3NaumN"
      },
      "source": [
        "Согласно ChessBase, игроков можно условно делить на следующие категории, в зависимости от их рейтинга:\n",
        "- 0-1000 Begginer\n",
        "- 1000-1600 Average club player level\n",
        "- 1600-2100 Strong club player level\n",
        "- 2100-2300 International league player\n",
        "- 2300-2450 International Master (IM) level\n",
        "- 2450-2650 Grandmaster (GM) level\n",
        "- \\> 2650 Supergrandmaster, world champion level\n",
        "\n",
        "Вместо игроков, мы будем брать усредненный рейтинг оппонентов в партии и применять классификацию выше. С помощью статистических методов, проверьте влияет ли класс партии на распределение исходов. Используйте уже знакомый вам тест $\\chi^2$.\n",
        "- Подумайте, как должна выглядеть факторная таблица в этом случае?\n",
        "- Сформулируйте как интерпретировать нулевую гипотезу критерия $\\chi^2$ в контексте проверяемой нами гипотезы.\n",
        "- Реализуйте проверку гипотезы."
      ]
    },
    {
      "cell_type": "markdown",
      "metadata": {
        "execution": {
          "iopub.execute_input": "2024-11-03T11:20:52.431379Z",
          "iopub.status.busy": "2024-11-03T11:20:52.430905Z",
          "iopub.status.idle": "2024-11-03T11:20:52.439254Z",
          "shell.execute_reply": "2024-11-03T11:20:52.437572Z",
          "shell.execute_reply.started": "2024-11-03T11:20:52.431324Z"
        },
        "id": "EJmgOONKaumN"
      },
      "source": [
        "**Факторная таблица:**\n",
        "\n",
        "Столбцы: Исходы партий (Победа белых, Победа черных, Ничья)\n",
        "\n",
        "Строки: Категории участников по рейтингу\n",
        "\n",
        "**Нулевая гипотеза:** Класс рейтинга участников не влияет на распределение исходов партий.\n",
        "То есть, распределение результатов (победа белых, победа черных, ничья) одинаково для всех классов рейтингов.\n",
        "\n",
        "**Альтернативная гипотеза :** Класс рейтинга участников влияет на распределение исходов партий.\n",
        "\n",
        "Если критерий даст p-value меньше уровня значимости, это будет свидетельствовать о том, что существует зависимость между классом участников и распределением исходов партий."
      ]
    },
    {
      "cell_type": "code",
      "execution_count": null,
      "metadata": {
        "id": "iaDCyjEUguHi"
      },
      "outputs": [
        {
          "ename": "",
          "evalue": "",
          "output_type": "error",
          "traceback": [
            "\u001b[1;31mДля выполнения ячеек с \"Python 3.12.4\" требуется пакет ipykernel.\n",
            "\u001b[1;31mВыполните следующую команду, чтобы установить \"ipykernel\" в среде Python. \n",
            "\u001b[1;31mКоманда: \"/opt/homebrew/bin/python3 -m pip install ipykernel -U --user --force-reinstall\""
          ]
        }
      ],
      "source": [
        "bins   = [0, 1000, 1600, 2100, 2300, 2450, 2650, 3000]\n",
        "labels = ['Begginer', 'Average', 'Strong', 'International', 'IM', 'GM', 'SuperGM']\n",
        "\n",
        "games_df_2 = pd.cut(games_df['elo_average'], bins=bins)"
      ]
    },
    {
      "cell_type": "code",
      "execution_count": null,
      "metadata": {
        "colab": {
          "base_uri": "https://localhost:8080/",
          "height": 458
        },
        "id": "UXoov60cg0H6",
        "outputId": "286a5e64-8d7a-4f54-d59e-a40da7ecef99"
      },
      "outputs": [
        {
          "ename": "",
          "evalue": "",
          "output_type": "error",
          "traceback": [
            "\u001b[1;31mДля выполнения ячеек с \"Python 3.12.4\" требуется пакет ipykernel.\n",
            "\u001b[1;31mВыполните следующую команду, чтобы установить \"ipykernel\" в среде Python. \n",
            "\u001b[1;31mКоманда: \"/opt/homebrew/bin/python3 -m pip install ipykernel -U --user --force-reinstall\""
          ]
        }
      ],
      "source": [
        "games_df_2"
      ]
    },
    {
      "cell_type": "code",
      "execution_count": null,
      "metadata": {
        "execution": {
          "iopub.execute_input": "2024-11-03T12:40:54.989069Z",
          "iopub.status.busy": "2024-11-03T12:40:54.988616Z",
          "iopub.status.idle": "2024-11-03T12:40:56.523247Z",
          "shell.execute_reply": "2024-11-03T12:40:56.521912Z",
          "shell.execute_reply.started": "2024-11-03T12:40:54.989011Z"
        },
        "id": "wzvthq2_aumN",
        "trusted": true
      },
      "outputs": [
        {
          "ename": "",
          "evalue": "",
          "output_type": "error",
          "traceback": [
            "\u001b[1;31mДля выполнения ячеек с \"Python 3.12.4\" требуется пакет ipykernel.\n",
            "\u001b[1;31mВыполните следующую команду, чтобы установить \"ipykernel\" в среде Python. \n",
            "\u001b[1;31mКоманда: \"/opt/homebrew/bin/python3 -m pip install ipykernel -U --user --force-reinstall\""
          ]
        }
      ],
      "source": [
        "bins   = [0, 1000, 1600, 2100, 2300, 2450, 2650, 3000]\n",
        "labels = ['Begginer', 'Average', 'Strong', 'International', 'IM', 'GM', 'SuperGM']\n",
        "\n",
        "games_df['rating_category'] = pd.cut(games_df['elo_average'], bins=bins, labels=labels)\n",
        "blitz_games_2 = games_df[games_df['control'] == 'blitz']\n",
        "rapid_games_2 = games_df[games_df['control'] == 'rapid']\n",
        "slow_games_2 = games_df[games_df['control'] == 'slow']\n",
        "\n",
        "table_blitz = pd.crosstab(blitz_games_2['rating_category'], blitz_games_2['result'])\n",
        "table_rapid = pd.crosstab(rapid_games_2['rating_category'], rapid_games_2['result'])\n",
        "table_slow = pd.crosstab(slow_games_2['rating_category'], slow_games_2['result'])\n"
      ]
    },
    {
      "cell_type": "code",
      "execution_count": null,
      "metadata": {
        "colab": {
          "base_uri": "https://localhost:8080/",
          "height": 300
        },
        "id": "UdsMK-ydeh2-",
        "outputId": "cea4ab84-01e3-4102-9262-e57994b52a18"
      },
      "outputs": [
        {
          "ename": "",
          "evalue": "",
          "output_type": "error",
          "traceback": [
            "\u001b[1;31mДля выполнения ячеек с \"Python 3.12.4\" требуется пакет ipykernel.\n",
            "\u001b[1;31mВыполните следующую команду, чтобы установить \"ipykernel\" в среде Python. \n",
            "\u001b[1;31mКоманда: \"/opt/homebrew/bin/python3 -m pip install ipykernel -U --user --force-reinstall\""
          ]
        }
      ],
      "source": [
        "table_slow"
      ]
    },
    {
      "cell_type": "code",
      "execution_count": null,
      "metadata": {
        "colab": {
          "base_uri": "https://localhost:8080/",
          "height": 300
        },
        "id": "0OTj_7jjewYV",
        "outputId": "72a38e24-251e-4b67-f0d5-e634b689652a"
      },
      "outputs": [
        {
          "ename": "",
          "evalue": "",
          "output_type": "error",
          "traceback": [
            "\u001b[1;31mДля выполнения ячеек с \"Python 3.12.4\" требуется пакет ipykernel.\n",
            "\u001b[1;31mВыполните следующую команду, чтобы установить \"ipykernel\" в среде Python. \n",
            "\u001b[1;31mКоманда: \"/opt/homebrew/bin/python3 -m pip install ipykernel -U --user --force-reinstall\""
          ]
        }
      ],
      "source": [
        "table_rapid"
      ]
    },
    {
      "cell_type": "code",
      "execution_count": null,
      "metadata": {
        "colab": {
          "base_uri": "https://localhost:8080/",
          "height": 300
        },
        "id": "rs_zbL4IewtK",
        "outputId": "d0a04501-e017-4c69-c61f-13de3c882389"
      },
      "outputs": [
        {
          "ename": "",
          "evalue": "",
          "output_type": "error",
          "traceback": [
            "\u001b[1;31mДля выполнения ячеек с \"Python 3.12.4\" требуется пакет ipykernel.\n",
            "\u001b[1;31mВыполните следующую команду, чтобы установить \"ipykernel\" в среде Python. \n",
            "\u001b[1;31mКоманда: \"/opt/homebrew/bin/python3 -m pip install ipykernel -U --user --force-reinstall\""
          ]
        }
      ],
      "source": [
        "table_blitz"
      ]
    },
    {
      "cell_type": "code",
      "execution_count": null,
      "metadata": {
        "id": "1r8ivSTkifjY"
      },
      "outputs": [
        {
          "ename": "",
          "evalue": "",
          "output_type": "error",
          "traceback": [
            "\u001b[1;31mДля выполнения ячеек с \"Python 3.12.4\" требуется пакет ipykernel.\n",
            "\u001b[1;31mВыполните следующую команду, чтобы установить \"ipykernel\" в среде Python. \n",
            "\u001b[1;31mКоманда: \"/opt/homebrew/bin/python3 -m pip install ipykernel -U --user --force-reinstall\""
          ]
        }
      ],
      "source": [
        "table_blitz = pd.crosstab(blitz_games_2['rating_category'], blitz_games_2['result'])\n",
        "table_blitz = table_blitz.reset_index()\n",
        "\n",
        "table_rapid = pd.crosstab(rapid_games_2['rating_category'], rapid_games_2['result'])\n",
        "table_rapid = table_rapid.reset_index()\n",
        "\n",
        "table_slow = pd.crosstab(slow_games_2['rating_category'], slow_games_2['result'])\n",
        "table_slow = table_slow.reset_index()"
      ]
    },
    {
      "cell_type": "code",
      "execution_count": null,
      "metadata": {
        "colab": {
          "base_uri": "https://localhost:8080/",
          "height": 269
        },
        "id": "PvNZZ-rtXmVK",
        "outputId": "fa6f905d-929f-47cb-a790-905bc32d9291"
      },
      "outputs": [
        {
          "ename": "",
          "evalue": "",
          "output_type": "error",
          "traceback": [
            "\u001b[1;31mДля выполнения ячеек с \"Python 3.12.4\" требуется пакет ipykernel.\n",
            "\u001b[1;31mВыполните следующую команду, чтобы установить \"ipykernel\" в среде Python. \n",
            "\u001b[1;31mКоманда: \"/opt/homebrew/bin/python3 -m pip install ipykernel -U --user --force-reinstall\""
          ]
        }
      ],
      "source": [
        "table_slow"
      ]
    },
    {
      "cell_type": "code",
      "execution_count": null,
      "metadata": {
        "colab": {
          "base_uri": "https://localhost:8080/"
        },
        "execution": {
          "iopub.execute_input": "2024-11-03T12:40:56.524889Z",
          "iopub.status.busy": "2024-11-03T12:40:56.524561Z",
          "iopub.status.idle": "2024-11-03T12:40:56.537702Z",
          "shell.execute_reply": "2024-11-03T12:40:56.536347Z",
          "shell.execute_reply.started": "2024-11-03T12:40:56.524854Z"
        },
        "id": "kNUWVHz4aumN",
        "outputId": "97f58c81-9349-4a3e-d680-5c69900b75b4",
        "trusted": true
      },
      "outputs": [
        {
          "ename": "",
          "evalue": "",
          "output_type": "error",
          "traceback": [
            "\u001b[1;31mДля выполнения ячеек с \"Python 3.12.4\" требуется пакет ipykernel.\n",
            "\u001b[1;31mВыполните следующую команду, чтобы установить \"ipykernel\" в среде Python. \n",
            "\u001b[1;31mКоманда: \"/opt/homebrew/bin/python3 -m pip install ipykernel -U --user --force-reinstall\""
          ]
        }
      ],
      "source": [
        "print('Testing ... for slow format')\n",
        "chi2_contingency(table_slow.drop('rating_category', axis=1))"
      ]
    },
    {
      "cell_type": "code",
      "execution_count": null,
      "metadata": {
        "colab": {
          "base_uri": "https://localhost:8080/"
        },
        "execution": {
          "iopub.execute_input": "2024-11-03T12:40:56.539849Z",
          "iopub.status.busy": "2024-11-03T12:40:56.539470Z",
          "iopub.status.idle": "2024-11-03T12:40:56.554982Z",
          "shell.execute_reply": "2024-11-03T12:40:56.553826Z",
          "shell.execute_reply.started": "2024-11-03T12:40:56.539810Z"
        },
        "id": "CBfmq9RYaumN",
        "outputId": "1164fe50-8999-4c83-a621-006bf03a6f94",
        "trusted": true
      },
      "outputs": [
        {
          "ename": "",
          "evalue": "",
          "output_type": "error",
          "traceback": [
            "\u001b[1;31mДля выполнения ячеек с \"Python 3.12.4\" требуется пакет ipykernel.\n",
            "\u001b[1;31mВыполните следующую команду, чтобы установить \"ipykernel\" в среде Python. \n",
            "\u001b[1;31mКоманда: \"/opt/homebrew/bin/python3 -m pip install ipykernel -U --user --force-reinstall\""
          ]
        }
      ],
      "source": [
        "print('Testing ... for rapid format')\n",
        "chi2_contingency(table_rapid.drop('rating_category', axis=1))"
      ]
    },
    {
      "cell_type": "code",
      "execution_count": null,
      "metadata": {
        "colab": {
          "base_uri": "https://localhost:8080/"
        },
        "execution": {
          "iopub.execute_input": "2024-11-03T12:40:56.556807Z",
          "iopub.status.busy": "2024-11-03T12:40:56.556385Z",
          "iopub.status.idle": "2024-11-03T12:40:56.574464Z",
          "shell.execute_reply": "2024-11-03T12:40:56.573234Z",
          "shell.execute_reply.started": "2024-11-03T12:40:56.556763Z"
        },
        "id": "0nkiu_KLaumN",
        "outputId": "0f1522b2-27da-48ae-d3f7-3b421dae2a7b",
        "trusted": true
      },
      "outputs": [
        {
          "ename": "",
          "evalue": "",
          "output_type": "error",
          "traceback": [
            "\u001b[1;31mДля выполнения ячеек с \"Python 3.12.4\" требуется пакет ipykernel.\n",
            "\u001b[1;31mВыполните следующую команду, чтобы установить \"ipykernel\" в среде Python. \n",
            "\u001b[1;31mКоманда: \"/opt/homebrew/bin/python3 -m pip install ipykernel -U --user --force-reinstall\""
          ]
        }
      ],
      "source": [
        "print('Testing ... for blitz format')\n",
        "chi2_contingency(table_blitz.drop('rating_category', axis=1))"
      ]
    },
    {
      "cell_type": "markdown",
      "metadata": {
        "id": "rvDZ0arBaumN"
      },
      "source": [
        "**Заключение**: существует зависимость между классом участников и распределением исходов партий"
      ]
    },
    {
      "cell_type": "markdown",
      "metadata": {
        "id": "-qJnMtV-aumN"
      },
      "source": [
        "Проблема в том что критерий $\\chi^2$ позволяет нам проверять факторы на зависимость/независимость, но ничего не говорит о структуре этой зависимости. Реализуйте вычисление ранговой корреляции Спирмена и посчитайте её, чтобы оценить есть ли\n",
        "- Монотонная зависимость между *шансами на ничью* и *рангом партии*\n",
        "- Монотонная зависимость между *разницей шансов на победу у белых и у чёрных* и *рангом партии*\n",
        "\n",
        "Используйте для этого партии сыгранные в блиц-контроле и дайте интерпретацию полученным результатам."
      ]
    },
    {
      "cell_type": "code",
      "execution_count": null,
      "metadata": {
        "execution": {
          "iopub.execute_input": "2024-11-03T12:40:56.576341Z",
          "iopub.status.busy": "2024-11-03T12:40:56.575941Z",
          "iopub.status.idle": "2024-11-03T12:40:56.600135Z",
          "shell.execute_reply": "2024-11-03T12:40:56.598846Z",
          "shell.execute_reply.started": "2024-11-03T12:40:56.576301Z"
        },
        "id": "ZgeVZc24aumN",
        "trusted": true
      },
      "outputs": [
        {
          "ename": "",
          "evalue": "",
          "output_type": "error",
          "traceback": [
            "\u001b[1;31mДля выполнения ячеек с \"Python 3.12.4\" требуется пакет ipykernel.\n",
            "\u001b[1;31mВыполните следующую команду, чтобы установить \"ipykernel\" в среде Python. \n",
            "\u001b[1;31mКоманда: \"/opt/homebrew/bin/python3 -m pip install ipykernel -U --user --force-reinstall\""
          ]
        }
      ],
      "source": [
        "table_blitz['total_games'] = table_blitz['1-0'] + table_blitz['0-1'] + table_blitz['1/2-1/2']\n",
        "table_blitz['draw_prob'] = table_blitz['1/2-1/2'] / table_blitz['total_games']\n",
        "table_blitz['white_win_prob'] = table_blitz['1-0'] / table_blitz['total_games']\n",
        "table_blitz['black_win_prob'] = table_blitz['0-1'] / table_blitz['total_games']\n",
        "table_blitz['dominance'] = table_blitz['white_win_prob'] - table_blitz['black_win_prob']"
      ]
    },
    {
      "cell_type": "code",
      "execution_count": null,
      "metadata": {
        "execution": {
          "iopub.execute_input": "2024-11-03T12:40:56.601862Z",
          "iopub.status.busy": "2024-11-03T12:40:56.601466Z",
          "iopub.status.idle": "2024-11-03T12:40:56.615338Z",
          "shell.execute_reply": "2024-11-03T12:40:56.614059Z",
          "shell.execute_reply.started": "2024-11-03T12:40:56.601822Z"
        },
        "id": "qNt1VsymaumN",
        "trusted": true
      },
      "outputs": [
        {
          "ename": "",
          "evalue": "",
          "output_type": "error",
          "traceback": [
            "\u001b[1;31mДля выполнения ячеек с \"Python 3.12.4\" требуется пакет ipykernel.\n",
            "\u001b[1;31mВыполните следующую команду, чтобы установить \"ipykernel\" в среде Python. \n",
            "\u001b[1;31mКоманда: \"/opt/homebrew/bin/python3 -m pip install ipykernel -U --user --force-reinstall\""
          ]
        }
      ],
      "source": [
        "def spearman_rank_correlation(observations : ArrayLike) -> float:\n",
        "    \"\"\"\n",
        "        Calculates spearmean's rank correlation coefficient for data in the format\n",
        "            (1, X[1]), (2, X[2]), .... (n, X[n])\n",
        "        i.e. for the paired rank data sorted by the first component. No ties assumed\n",
        "        in the data X.\n",
        "\n",
        "        Parameters\n",
        "        ----------\n",
        "        observed : ArrayLike\n",
        "             array of values X[1], X[2], ... X[n],\n",
        "\n",
        "        Returns\n",
        "        -------\n",
        "        spearman : float\n",
        "            value of the spearman correlation for the given data\n",
        "    \"\"\"\n",
        "    R = rankdata(observations)\n",
        "    n = len(observations)\n",
        "    S = np.arange(1, n + 1)\n",
        "    spearman_corr = np.corrcoef(R, S)[0, 1]\n",
        "\n",
        "    return spearman_corr"
      ]
    },
    {
      "cell_type": "code",
      "execution_count": null,
      "metadata": {
        "colab": {
          "base_uri": "https://localhost:8080/"
        },
        "execution": {
          "iopub.execute_input": "2024-11-03T12:40:56.623307Z",
          "iopub.status.busy": "2024-11-03T12:40:56.622684Z",
          "iopub.status.idle": "2024-11-03T12:40:56.630583Z",
          "shell.execute_reply": "2024-11-03T12:40:56.629433Z",
          "shell.execute_reply.started": "2024-11-03T12:40:56.623264Z"
        },
        "id": "8BeIT4MKaumN",
        "outputId": "e9863b41-2502-43af-d71a-39e43d53a8d0",
        "trusted": true
      },
      "outputs": [
        {
          "ename": "",
          "evalue": "",
          "output_type": "error",
          "traceback": [
            "\u001b[1;31mДля выполнения ячеек с \"Python 3.12.4\" требуется пакет ipykernel.\n",
            "\u001b[1;31mВыполните следующую команду, чтобы установить \"ipykernel\" в среде Python. \n",
            "\u001b[1;31mКоманда: \"/opt/homebrew/bin/python3 -m pip install ipykernel -U --user --force-reinstall\""
          ]
        }
      ],
      "source": [
        "rho = spearman_rank_correlation(table_blitz['draw_prob'])\n",
        "print(f'Correlation between draw odds and game rank: {rho}')"
      ]
    },
    {
      "cell_type": "code",
      "execution_count": null,
      "metadata": {
        "colab": {
          "base_uri": "https://localhost:8080/"
        },
        "execution": {
          "iopub.execute_input": "2024-11-03T12:40:56.632736Z",
          "iopub.status.busy": "2024-11-03T12:40:56.632313Z",
          "iopub.status.idle": "2024-11-03T12:40:56.643795Z",
          "shell.execute_reply": "2024-11-03T12:40:56.642665Z",
          "shell.execute_reply.started": "2024-11-03T12:40:56.632695Z"
        },
        "id": "6C8J4wixaumN",
        "outputId": "0e4b0107-0bd4-43fa-8fa8-7bfaba8fc7e5",
        "trusted": true
      },
      "outputs": [
        {
          "ename": "",
          "evalue": "",
          "output_type": "error",
          "traceback": [
            "\u001b[1;31mДля выполнения ячеек с \"Python 3.12.4\" требуется пакет ipykernel.\n",
            "\u001b[1;31mВыполните следующую команду, чтобы установить \"ipykernel\" в среде Python. \n",
            "\u001b[1;31mКоманда: \"/opt/homebrew/bin/python3 -m pip install ipykernel -U --user --force-reinstall\""
          ]
        }
      ],
      "source": [
        "rho = spearman_rank_correlation(table_blitz['dominance'])\n",
        "print(f'Correlation between white dominance over black and game rank: {rho}')"
      ]
    },
    {
      "cell_type": "markdown",
      "metadata": {
        "id": "g31zkYa4aumN"
      },
      "source": [
        "**Заключение:** Значение корреляции равно 1.0, что говорит о сильной положительной линейной зависимости между вероятностью ничьей и рангом партии.\n",
        "Это означает, что с ростом ранга партии (то есть, когда участники партии являются более сильными игроками), вероятность ничьей увеличивается\n",
        "\n",
        "Значение корреляции равно 0.214, что говорит о слабой положительной зависимости между доминированием белых над черными и рангом партии.\n",
        "Это значение корреляции указывает, что с увеличением уровня рейтинга участников, шансы на победу белых над черными немного увеличиваются. Однако эта связь не является сильной."
      ]
    },
    {
      "cell_type": "markdown",
      "metadata": {
        "id": "ELpWPfEeaumO"
      },
      "source": [
        "## Задача 3. Статистика дебютов (2.5 балла)"
      ]
    },
    {
      "cell_type": "markdown",
      "metadata": {
        "id": "xVDwXlZcaumO"
      },
      "source": [
        "Другим распространённым мнением является то что выбор дебюта на высоком уровне не влияет на результативность партии. Все дебюты, согласно энциклопедии шахматных дебютов (ECO) делятся на 5 категорий\n",
        "- A: Фланговые варианты.\n",
        "- B: Полуоткрыте варианты.\n",
        "- C: Открытые варианты.\n",
        "- D: Закрытые и полузакрытые варианты.\n",
        "- E: Системы типа индийской защиты.\n",
        "\n",
        "Так как у нас нет доступа к партиям ИИ, которые сейчас считаются эталоном точной игры, мы ограничимся данными по партиям уровня супергроссмейстеров.\n",
        "Используя статистические методы, проверьте:\n",
        "- Есть ли разница в предпочтениях дебютов (с точки зрения приведенных выше категорий) между партиями уровня супергроссмейстеров и партиями уровня гроссмейстеров в классическом временном контроле?\n",
        "- Правда ли что выбор между открытым (C) и закрытым (D) началом не влияет на распределение исхода партии? Проверьте это для разных форм временного контроля. Используйте партии только уровня супергроссмейстеров.\n",
        "\n",
        "Для проверки будем использовать критерий $\\chi^2$ (снова). Для каждой гипотезы, которое вы собираетесь проверять:\n",
        "- сделайте визуализацию соответствующих данных;\n",
        "- сформулируйте нулевую и альтернативную гипотезу. Опишите как применить критерий $\\chi^2$ для проверки этих гипотез;\n",
        "- реализуйте проверку гипотезы и дайте интерпретацию результатам;"
      ]
    },
    {
      "cell_type": "markdown",
      "metadata": {
        "id": "YXL-0CR7aumO"
      },
      "source": [
        "ВАШЕ РЕШЕНИЕ И МЫСЛИ ТУТ"
      ]
    },
    {
      "cell_type": "code",
      "execution_count": null,
      "metadata": {
        "colab": {
          "base_uri": "https://localhost:8080/",
          "height": 407
        },
        "id": "Urqv4bLTjAd-",
        "outputId": "daf640d7-cc11-4d16-d3f3-6de4fcdd5b9a"
      },
      "outputs": [
        {
          "ename": "",
          "evalue": "",
          "output_type": "error",
          "traceback": [
            "\u001b[1;31mДля выполнения ячеек с \"Python 3.12.4\" требуется пакет ipykernel.\n",
            "\u001b[1;31mВыполните следующую команду, чтобы установить \"ipykernel\" в среде Python. \n",
            "\u001b[1;31mКоманда: \"/opt/homebrew/bin/python3 -m pip install ipykernel -U --user --force-reinstall\""
          ]
        }
      ],
      "source": [
        "supergm_slow_games = games_df[(games_df['rating_category'] == 'SuperGM') & (games_df['control'] == 'slow')]\n",
        "\n",
        "opening_distribution = supergm_slow_games['opening'].value_counts().reset_index()\n",
        "opening_distribution.columns = ['opening', 'count']\n",
        "\n",
        "plt.figure(figsize=(5, 4))\n",
        "plt.bar(opening_distribution['opening'], opening_distribution['count'], color='skyblue')\n",
        "plt.xlabel('Opening Category')\n",
        "plt.ylabel('Number of Games')\n",
        "plt.title('Distribution of Openings for SuperGMs in Slow Format')\n",
        "plt.xticks(rotation=45, ha='right')\n",
        "\n",
        "plt.tight_layout()\n",
        "plt.show()"
      ]
    },
    {
      "cell_type": "code",
      "execution_count": null,
      "metadata": {
        "colab": {
          "base_uri": "https://localhost:8080/",
          "height": 407
        },
        "id": "wSlwRBUklPQq",
        "outputId": "ff581e92-eab3-4c23-fcaa-2868119b0b20"
      },
      "outputs": [
        {
          "ename": "",
          "evalue": "",
          "output_type": "error",
          "traceback": [
            "\u001b[1;31mДля выполнения ячеек с \"Python 3.12.4\" требуется пакет ipykernel.\n",
            "\u001b[1;31mВыполните следующую команду, чтобы установить \"ipykernel\" в среде Python. \n",
            "\u001b[1;31mКоманда: \"/opt/homebrew/bin/python3 -m pip install ipykernel -U --user --force-reinstall\""
          ]
        }
      ],
      "source": [
        "gm_slow_games = games_df[(games_df['rating_category'] == 'GM') & (games_df['control'] == 'slow')]\n",
        "\n",
        "opening_distribution_gm = gm_slow_games['opening'].value_counts().reset_index()\n",
        "opening_distribution_gm.columns = ['opening', 'count']\n",
        "\n",
        "plt.figure(figsize=(5, 4))\n",
        "plt.bar(opening_distribution_gm['opening'], opening_distribution_gm['count'], color='lightcoral')\n",
        "plt.xlabel('Opening Category')\n",
        "plt.ylabel('Number of Games')\n",
        "plt.title('Distribution of Openings for GMs in Slow Format')\n",
        "plt.xticks(rotation=45, ha='right')\n",
        "\n",
        "plt.tight_layout()\n",
        "plt.show()"
      ]
    },
    {
      "cell_type": "markdown",
      "metadata": {
        "id": "nzqXXZPsmZAs"
      },
      "source": [
        "**Нулевая гипотеза:**\n",
        "\n",
        "Нет разницы в предпочтениях дебютов между партиями уровня супергроссмейстеров и партиями уровня гроссмейстеров в классическом временном контроле. То есть, распределение дебютов одинаково для двух категорий игроков.\n",
        "\n",
        "**Альтернативная гипотеза:**\n",
        "\n",
        "Есть разница в предпочтениях дебютов между партиями уровня супергроссмейстеров и партиями уровня гроссмейстеров в классическом временном контроле. Это значит, что частота выбора дебютов между уровнями игроков отличается.\n",
        "\n",
        "Для проверки нулевой гипотезы сравниваем значение\n",
        "𝜒^2 с критическим значением, соответствующим  уровню значимости и степеням свободы.\n",
        "Если рассчитанное значение больше критического, то нулевая гипотеза отвергается в пользу альтернативной гипотезы"
      ]
    },
    {
      "cell_type": "code",
      "execution_count": null,
      "metadata": {
        "execution": {
          "iopub.execute_input": "2024-11-03T12:41:01.911605Z",
          "iopub.status.busy": "2024-11-03T12:41:01.911251Z",
          "iopub.status.idle": "2024-11-03T12:41:01.922480Z",
          "shell.execute_reply": "2024-11-03T12:41:01.921248Z",
          "shell.execute_reply.started": "2024-11-03T12:41:01.911566Z"
        },
        "id": "hcbNKBKsaumO",
        "trusted": true
      },
      "outputs": [
        {
          "ename": "",
          "evalue": "",
          "output_type": "error",
          "traceback": [
            "\u001b[1;31mДля выполнения ячеек с \"Python 3.12.4\" требуется пакет ipykernel.\n",
            "\u001b[1;31mВыполните следующую команду, чтобы установить \"ipykernel\" в среде Python. \n",
            "\u001b[1;31mКоманда: \"/opt/homebrew/bin/python3 -m pip install ipykernel -U --user --force-reinstall\""
          ]
        }
      ],
      "source": [
        "contingency_table = pd.crosstab(games_df['rating_category'], games_df['opening'])\n",
        "contingency_table = contingency_table.loc[['GM', 'SuperGM']]"
      ]
    },
    {
      "cell_type": "code",
      "execution_count": null,
      "metadata": {
        "colab": {
          "base_uri": "https://localhost:8080/",
          "height": 143
        },
        "id": "4E144SQhnyd-",
        "outputId": "7c1d9689-0c75-48b5-b8ac-3d77a93944f6"
      },
      "outputs": [
        {
          "ename": "",
          "evalue": "",
          "output_type": "error",
          "traceback": [
            "\u001b[1;31mДля выполнения ячеек с \"Python 3.12.4\" требуется пакет ipykernel.\n",
            "\u001b[1;31mВыполните следующую команду, чтобы установить \"ipykernel\" в среде Python. \n",
            "\u001b[1;31mКоманда: \"/opt/homebrew/bin/python3 -m pip install ipykernel -U --user --force-reinstall\""
          ]
        }
      ],
      "source": [
        "contingency_table"
      ]
    },
    {
      "cell_type": "code",
      "execution_count": null,
      "metadata": {
        "colab": {
          "base_uri": "https://localhost:8080/"
        },
        "id": "c4j1p6Aun9_N",
        "outputId": "a427060c-b913-427e-ef71-6411c86b9b6a"
      },
      "outputs": [
        {
          "ename": "",
          "evalue": "",
          "output_type": "error",
          "traceback": [
            "\u001b[1;31mДля выполнения ячеек с \"Python 3.12.4\" требуется пакет ipykernel.\n",
            "\u001b[1;31mВыполните следующую команду, чтобы установить \"ipykernel\" в среде Python. \n",
            "\u001b[1;31mКоманда: \"/opt/homebrew/bin/python3 -m pip install ipykernel -U --user --force-reinstall\""
          ]
        }
      ],
      "source": [
        "chi2_contingency(contingency_table)"
      ]
    },
    {
      "cell_type": "markdown",
      "metadata": {
        "id": "bpKb0h4iaumO"
      },
      "source": [
        "**Заключение**: Получилось, что есть разница в выборе дебютов между партиями уровня супергроссмейстеров и партиями уровня гроссмейстеров в классическом временном контроле"
      ]
    },
    {
      "cell_type": "markdown",
      "metadata": {
        "id": "zZK3-JiNaumO"
      },
      "source": [
        "Теперь проверьте влияет ли выбор между открытым и закрытым началом:"
      ]
    },
    {
      "cell_type": "code",
      "execution_count": null,
      "metadata": {
        "colab": {
          "base_uri": "https://localhost:8080/",
          "height": 1000
        },
        "id": "SCbCpWyKpLr8",
        "outputId": "00a0bbf5-8d68-434a-f91b-38e58d0cc967"
      },
      "outputs": [
        {
          "ename": "",
          "evalue": "",
          "output_type": "error",
          "traceback": [
            "\u001b[1;31mДля выполнения ячеек с \"Python 3.12.4\" требуется пакет ipykernel.\n",
            "\u001b[1;31mВыполните следующую команду, чтобы установить \"ipykernel\" в среде Python. \n",
            "\u001b[1;31mКоманда: \"/opt/homebrew/bin/python3 -m pip install ipykernel -U --user --force-reinstall\""
          ]
        }
      ],
      "source": [
        "super_gm_games = games_df[games_df['elo_average'] >= 2650]\n",
        "super_gm_games_c = super_gm_games[super_gm_games['opening'] == 'C']\n",
        "super_gm_games_d = super_gm_games[super_gm_games['opening'] == 'D']\n",
        "\n",
        "super_gm_openings_cd = pd.concat([super_gm_games_c, super_gm_games_d])\n",
        "\n",
        "slow_games_3 = super_gm_openings_cd[super_gm_openings_cd['control'] == 'slow']\n",
        "rapid_games_3 = super_gm_openings_cd[super_gm_openings_cd['control'] == 'rapid']\n",
        "blitz_games_3 = super_gm_openings_cd[super_gm_openings_cd['control'] == 'blitz']\n",
        "\n",
        "plt.figure(figsize=(10, 5))\n",
        "\n",
        "\n",
        "plt.title('Distribution of results by openings (C vs D) for SuperGMs in slow format')\n",
        "sns.countplot(data=slow_games_3, x='opening', hue='result')\n",
        "plt.xlabel('Opening Category (C: Open, D: Closed)')\n",
        "plt.ylabel('Number of Games')\n",
        "plt.legend(title='Result')\n",
        "plt.show()\n",
        "\n",
        "\n",
        "plt.figure(figsize=(10, 5))\n",
        "plt.title('Distribution of results by openings (C vs D) for SuperGMs in rapid format')\n",
        "sns.countplot(data=rapid_games_3, x='opening', hue='result')\n",
        "plt.xlabel('Opening Category (C: Open, D: Closed)')\n",
        "plt.ylabel('Number of Games')\n",
        "plt.legend(title='Result')\n",
        "plt.show()\n",
        "\n",
        "\n",
        "plt.figure(figsize=(10, 5))\n",
        "plt.title('Distribution of results by openings (C vs D) for SuperGMs in blitz format')\n",
        "sns.countplot(data=blitz_games_3, x='opening', hue='result')\n",
        "plt.xlabel('Opening Category (C: Open, D: Closed)')\n",
        "plt.ylabel('Number of Games')\n",
        "plt.legend(title='Result')\n",
        "plt.show()"
      ]
    },
    {
      "cell_type": "markdown",
      "metadata": {
        "id": "X7pB6twRaumO"
      },
      "source": [
        "**Нулевая гипотеза:**\n",
        "\n",
        "Выбор между открытым и закрытым дебютом независим от результата партии.\n",
        "\n",
        "**Альтернативная гипотеза:**\n",
        "\n",
        "Выбор между открытым и закрытым дебютом влияет на результат партии.\n"
      ]
    },
    {
      "cell_type": "markdown",
      "metadata": {
        "id": "alkSSM6arwz-"
      },
      "source": [
        "Сделаем три таблицы по дебюту открытых и закрытых категорий и по результату для трех временных контролей"
      ]
    },
    {
      "cell_type": "code",
      "execution_count": null,
      "metadata": {
        "execution": {
          "iopub.execute_input": "2024-11-03T12:41:01.924443Z",
          "iopub.status.busy": "2024-11-03T12:41:01.924005Z",
          "iopub.status.idle": "2024-11-03T12:41:02.020796Z",
          "shell.execute_reply": "2024-11-03T12:41:02.019720Z",
          "shell.execute_reply.started": "2024-11-03T12:41:01.924401Z"
        },
        "id": "WxCJtlzhaumO",
        "trusted": true
      },
      "outputs": [
        {
          "ename": "",
          "evalue": "",
          "output_type": "error",
          "traceback": [
            "\u001b[1;31mДля выполнения ячеек с \"Python 3.12.4\" требуется пакет ipykernel.\n",
            "\u001b[1;31mВыполните следующую команду, чтобы установить \"ipykernel\" в среде Python. \n",
            "\u001b[1;31mКоманда: \"/opt/homebrew/bin/python3 -m pip install ipykernel -U --user --force-reinstall\""
          ]
        }
      ],
      "source": [
        "super_gm_games = games_df[games_df['rating_category'] == 'SuperGM']\n",
        "\n",
        "super_gm_openings_cd = super_gm_games[super_gm_games['opening'].isin(['C', 'D'])]\n",
        "\n",
        "slow_games = super_gm_openings_cd[super_gm_openings_cd['control'] == 'slow']\n",
        "rapid_games = super_gm_openings_cd[super_gm_openings_cd['control'] == 'rapid']\n",
        "blitz_games = super_gm_openings_cd[super_gm_openings_cd['control'] == 'blitz']\n",
        "\n",
        "table_slow = pd.crosstab(slow_games['opening'], slow_games['result'])\n",
        "table_rapid = pd.crosstab(rapid_games['opening'], rapid_games['result'])\n",
        "table_blitz = pd.crosstab(blitz_games['opening'], blitz_games['result'])\n"
      ]
    },
    {
      "cell_type": "code",
      "execution_count": null,
      "metadata": {
        "colab": {
          "base_uri": "https://localhost:8080/",
          "height": 143
        },
        "id": "ZS0s6EbYrl3g",
        "outputId": "ef1ce5f1-c1a1-4530-f520-463994bb74e6"
      },
      "outputs": [
        {
          "ename": "",
          "evalue": "",
          "output_type": "error",
          "traceback": [
            "\u001b[1;31mДля выполнения ячеек с \"Python 3.12.4\" требуется пакет ipykernel.\n",
            "\u001b[1;31mВыполните следующую команду, чтобы установить \"ipykernel\" в среде Python. \n",
            "\u001b[1;31mКоманда: \"/opt/homebrew/bin/python3 -m pip install ipykernel -U --user --force-reinstall\""
          ]
        }
      ],
      "source": [
        "table_slow"
      ]
    },
    {
      "cell_type": "code",
      "execution_count": null,
      "metadata": {
        "colab": {
          "base_uri": "https://localhost:8080/",
          "height": 143
        },
        "id": "6G60iu3Rrrdl",
        "outputId": "74b67045-cd8d-45a2-8d1b-7e9e7f4f28bb"
      },
      "outputs": [
        {
          "ename": "",
          "evalue": "",
          "output_type": "error",
          "traceback": [
            "\u001b[1;31mДля выполнения ячеек с \"Python 3.12.4\" требуется пакет ipykernel.\n",
            "\u001b[1;31mВыполните следующую команду, чтобы установить \"ipykernel\" в среде Python. \n",
            "\u001b[1;31mКоманда: \"/opt/homebrew/bin/python3 -m pip install ipykernel -U --user --force-reinstall\""
          ]
        }
      ],
      "source": [
        "table_rapid"
      ]
    },
    {
      "cell_type": "code",
      "execution_count": null,
      "metadata": {
        "colab": {
          "base_uri": "https://localhost:8080/",
          "height": 143
        },
        "id": "0jyQOFEKrtI2",
        "outputId": "a44dcade-fae5-4ead-d1a0-86b4e2fa5bb9"
      },
      "outputs": [
        {
          "ename": "",
          "evalue": "",
          "output_type": "error",
          "traceback": [
            "\u001b[1;31mДля выполнения ячеек с \"Python 3.12.4\" требуется пакет ipykernel.\n",
            "\u001b[1;31mВыполните следующую команду, чтобы установить \"ipykernel\" в среде Python. \n",
            "\u001b[1;31mКоманда: \"/opt/homebrew/bin/python3 -m pip install ipykernel -U --user --force-reinstall\""
          ]
        }
      ],
      "source": [
        "table_blitz"
      ]
    },
    {
      "cell_type": "code",
      "execution_count": null,
      "metadata": {
        "colab": {
          "base_uri": "https://localhost:8080/"
        },
        "id": "0MLnSSuksAcj",
        "outputId": "b8a2eaee-09f4-4281-a569-d22c0400b6ba"
      },
      "outputs": [
        {
          "ename": "",
          "evalue": "",
          "output_type": "error",
          "traceback": [
            "\u001b[1;31mДля выполнения ячеек с \"Python 3.12.4\" требуется пакет ipykernel.\n",
            "\u001b[1;31mВыполните следующую команду, чтобы установить \"ipykernel\" в среде Python. \n",
            "\u001b[1;31mКоманда: \"/opt/homebrew/bin/python3 -m pip install ipykernel -U --user --force-reinstall\""
          ]
        }
      ],
      "source": [
        "chi2_contingency(table_blitz)"
      ]
    },
    {
      "cell_type": "code",
      "execution_count": null,
      "metadata": {
        "colab": {
          "base_uri": "https://localhost:8080/"
        },
        "id": "eFGisDTyskKg",
        "outputId": "33d00d05-d39b-4fcb-f655-2958b52d1267"
      },
      "outputs": [
        {
          "ename": "",
          "evalue": "",
          "output_type": "error",
          "traceback": [
            "\u001b[1;31mДля выполнения ячеек с \"Python 3.12.4\" требуется пакет ipykernel.\n",
            "\u001b[1;31mВыполните следующую команду, чтобы установить \"ipykernel\" в среде Python. \n",
            "\u001b[1;31mКоманда: \"/opt/homebrew/bin/python3 -m pip install ipykernel -U --user --force-reinstall\""
          ]
        }
      ],
      "source": [
        "chi2_contingency(table_rapid)"
      ]
    },
    {
      "cell_type": "code",
      "execution_count": null,
      "metadata": {
        "colab": {
          "base_uri": "https://localhost:8080/"
        },
        "id": "YuInubcFsnNh",
        "outputId": "ca13d445-7871-494e-f156-d63aea7cb549"
      },
      "outputs": [
        {
          "ename": "",
          "evalue": "",
          "output_type": "error",
          "traceback": [
            "\u001b[1;31mДля выполнения ячеек с \"Python 3.12.4\" требуется пакет ipykernel.\n",
            "\u001b[1;31mВыполните следующую команду, чтобы установить \"ipykernel\" в среде Python. \n",
            "\u001b[1;31mКоманда: \"/opt/homebrew/bin/python3 -m pip install ipykernel -U --user --force-reinstall\""
          ]
        }
      ],
      "source": [
        "chi2_contingency(table_slow)"
      ]
    },
    {
      "cell_type": "markdown",
      "metadata": {
        "id": "-Yl8S27GaumO"
      },
      "source": [
        "Что изменится если брать уровень значимости 0.01? А если брать уровень значимости 0.1? Дайте ответы на эти вопросы и напишите интерпретацию полученных результатов."
      ]
    },
    {
      "cell_type": "markdown",
      "metadata": {
        "id": "paMFT50waumO"
      },
      "source": [
        "**Заключение**: На уровне значимости 0.05 можно утверждать, что только в классическом контроле (slow) разница в рейтинге участников влияет на результат партии. Вообще,можно увидеть, что чем меньше времени, тем больше влияние дебюта.\n",
        "\n",
        "На уровне значимости 0,01 зависимость не подтверждается.\n",
        "На уровне значимости 0,1 зависимость подтверждается для рапид и классического контроля."
      ]
    },
    {
      "cell_type": "markdown",
      "metadata": {
        "id": "RAH4tYu5aumO"
      },
      "source": [
        "## Задача 4. Исследование длин партий в разных формах временного контроля (10 баллов)\n",
        "\n",
        "Попробуйте разобраться в том, какому распределению следуют длительности партий в формате рапид. Выберете несколько распределений и попробуйте оценить их параметры. Постройте гистограммы на которых изображено распределение длительности партий и теоретические плотности распределений с оценёнными параметрами.\n",
        "\n",
        "Для оценки параметров распределений можно использовать метод ``fit()`` класса ``scipy.rv_continious()``."
      ]
    },
    {
      "cell_type": "code",
      "execution_count": null,
      "metadata": {
        "colab": {
          "base_uri": "https://localhost:8080/",
          "height": 657
        },
        "id": "R5mpDeq8yxTS",
        "outputId": "cdae826d-c08d-4cf6-ae57-a9eec8b68dd9"
      },
      "outputs": [
        {
          "ename": "",
          "evalue": "",
          "output_type": "error",
          "traceback": [
            "\u001b[1;31mДля выполнения ячеек с \"Python 3.12.4\" требуется пакет ipykernel.\n",
            "\u001b[1;31mВыполните следующую команду, чтобы установить \"ipykernel\" в среде Python. \n",
            "\u001b[1;31mКоманда: \"/opt/homebrew/bin/python3 -m pip install ipykernel -U --user --force-reinstall\""
          ]
        }
      ],
      "source": [
        "length_counts = rapid_games_2.groupby('length').size().reset_index(name='count')\n",
        "\n",
        "plt.figure(figsize=(20, 10))\n",
        "\n",
        "sns.barplot(data=length_counts, x='length', y='count', palette='Blues', width=1)\n",
        "\n",
        "plt.xticks(plt.xticks()[0][::25])\n",
        "\n",
        "plt.xlabel('Length of Game')\n",
        "plt.ylabel('Count of Games')\n",
        "plt.title('Distribution of Game Length in Rapid Format')\n",
        "\n",
        "plt.show()"
      ]
    },
    {
      "cell_type": "code",
      "execution_count": null,
      "metadata": {
        "colab": {
          "base_uri": "https://localhost:8080/",
          "height": 1000
        },
        "id": "UqstCozj1Ej9",
        "outputId": "23d61301-42cd-4025-a1cb-2e55cae8f42b"
      },
      "outputs": [
        {
          "ename": "",
          "evalue": "",
          "output_type": "error",
          "traceback": [
            "\u001b[1;31mДля выполнения ячеек с \"Python 3.12.4\" требуется пакет ipykernel.\n",
            "\u001b[1;31mВыполните следующую команду, чтобы установить \"ipykernel\" в среде Python. \n",
            "\u001b[1;31mКоманда: \"/opt/homebrew/bin/python3 -m pip install ipykernel -U --user --force-reinstall\""
          ]
        }
      ],
      "source": [
        "from scipy.stats import gamma, lognorm, exponnorm, invgauss, invgamma, rayleigh, maxwell\n",
        "data = rapid_games['length'].to_numpy().flatten()\n",
        "fig, axs = plt.subplots(7, 1, figsize=(15, 35))\n",
        "probs = np.bincount(data) / len(data)\n",
        "probs_x = np.arange(len(probs))\n",
        "x = np.linspace(data.min(), data.max(), 1000)\n",
        "distributions = [gamma, lognorm, exponnorm, invgauss, invgamma, rayleigh, maxwell]\n",
        "\n",
        "for dist, ax in zip(distributions, axs):\n",
        "    params = dist.fit(data)\n",
        "\n",
        "    *params, loc, scale = params\n",
        "\n",
        "    ax.bar(probs_x, probs, width=1, alpha=.5)\n",
        "\n",
        "    ax.plot(x, dist.pdf(x, *params, loc, scale), color='red', linewidth=2)\n",
        "\n",
        "    ax.set_title(f'Fitted {dist.name.capitalize()} Distribution vs Real Data')\n",
        "    ax.set_xlabel('Length of Game')\n",
        "    ax.set_ylabel('Count/Frequency')\n",
        "\n",
        "plt.tight_layout()\n",
        "plt.show()"
      ]
    },
    {
      "cell_type": "markdown",
      "metadata": {
        "id": "Iu9j7EPaaumO"
      },
      "source": [
        "Выберите три наиболее на ваш взгляд подходящих распределения и постройте для них Q-Q график. Подробнее про Q-Q графики можно прочитать [здесь](https://habr.com/ru/articles/578754/) (обратите внимание, что в статье делается упор на Q-Q графики относительно нормального распределения --- вам же нужно построить графики относительно распределений, параметры которых вы оценили)."
      ]
    },
    {
      "cell_type": "code",
      "execution_count": null,
      "metadata": {
        "execution": {
          "iopub.execute_input": "2024-11-03T12:41:05.443697Z",
          "iopub.status.busy": "2024-11-03T12:41:05.443322Z",
          "iopub.status.idle": "2024-11-03T12:41:05.452834Z",
          "shell.execute_reply": "2024-11-03T12:41:05.451566Z",
          "shell.execute_reply.started": "2024-11-03T12:41:05.443658Z"
        },
        "id": "-8Gk8UZdaumP",
        "trusted": true
      },
      "outputs": [
        {
          "ename": "",
          "evalue": "",
          "output_type": "error",
          "traceback": [
            "\u001b[1;31mДля выполнения ячеек с \"Python 3.12.4\" требуется пакет ipykernel.\n",
            "\u001b[1;31mВыполните следующую команду, чтобы установить \"ipykernel\" в среде Python. \n",
            "\u001b[1;31mКоманда: \"/opt/homebrew/bin/python3 -m pip install ipykernel -U --user --force-reinstall\""
          ]
        }
      ],
      "source": [
        "def qqplot(data : ArrayLike, distribution: stats.rv_continuous,  quantiles : int,  ax : plt.axis) -> plt.axis:\n",
        "    \"\"\"\n",
        "        Plots Q-Q plot agains theoretical distribution.\n",
        "\n",
        "        Parameters\n",
        "        ----------\n",
        "        data : ArrayLike\n",
        "            sample data\n",
        "        distribution: stats.rv_continuous\n",
        "            theoretical distribution agains which quantiles will be plotted\n",
        "        quantiles: int\n",
        "            number of quantiles (must be less than size of the data)\n",
        "        ax: plt.axis\n",
        "            PyPlot Axis object, on which QQ-plot should be plotted\n",
        "\n",
        "        Returns\n",
        "        -------\n",
        "        ax: plt.axis\n",
        "            PyPlot Axis object with QQ-plot\n",
        "    \"\"\"\n",
        "\n",
        "    quantiles_vals = np.linspace(0, 1, quantiles + 2)[1:-1]\n",
        "    dist_quantiles = distribution.ppf(quantiles_vals, *distribution.fit(data))\n",
        "    sample_quantiles = np.quantile(data, quantiles_vals)\n",
        "    ax.scatter(dist_quantiles, sample_quantiles, color='blue')\n",
        "    ax.plot([dist_quantiles.min(), dist_quantiles.max()],\n",
        "            [sample_quantiles.min(), sample_quantiles.max()],\n",
        "            linestyle='--', color='red')\n",
        "\n",
        "    ax.set_title(f\"Q-Q Plot vs {distribution.name}\")\n",
        "    ax.set_xlabel(\"Theoretical Quantiles\")\n",
        "    ax.set_ylabel(\"Sample Quantiles\")\n",
        "\n",
        "    return ax"
      ]
    },
    {
      "cell_type": "code",
      "execution_count": null,
      "metadata": {
        "colab": {
          "base_uri": "https://localhost:8080/",
          "height": 352
        },
        "execution": {
          "iopub.execute_input": "2024-11-03T12:41:05.455298Z",
          "iopub.status.busy": "2024-11-03T12:41:05.454459Z",
          "iopub.status.idle": "2024-11-03T12:41:06.203555Z",
          "shell.execute_reply": "2024-11-03T12:41:06.202148Z",
          "shell.execute_reply.started": "2024-11-03T12:41:05.455247Z"
        },
        "id": "eqUw2Wk2aumP",
        "outputId": "e1cbadf0-ac4d-45e7-d5b1-a9a4752a1ce5",
        "trusted": true
      },
      "outputs": [
        {
          "ename": "",
          "evalue": "",
          "output_type": "error",
          "traceback": [
            "\u001b[1;31mДля выполнения ячеек с \"Python 3.12.4\" требуется пакет ipykernel.\n",
            "\u001b[1;31mВыполните следующую команду, чтобы установить \"ipykernel\" в среде Python. \n",
            "\u001b[1;31mКоманда: \"/opt/homebrew/bin/python3 -m pip install ipykernel -U --user --force-reinstall\""
          ]
        }
      ],
      "source": [
        "fig, axs = plt.subplots(1, 3, figsize=(18, 6))\n",
        "\n",
        "data = np.random.exponential(scale=1, size=1000)\n",
        "\n",
        "qqplot(data, stats.lognorm, quantiles=50, ax=axs[0])\n",
        "qqplot(data, stats.exponnorm, quantiles=50, ax=axs[1])\n",
        "qqplot(data, stats.invgamma, quantiles=50, ax=axs[2])\n",
        "\n",
        "plt.tight_layout()\n",
        "plt.show()"
      ]
    },
    {
      "cell_type": "markdown",
      "metadata": {
        "id": "SDxOsvJtaumP"
      },
      "source": [
        " На основе всего выше сделанного выберете одно распределение, которое вам кажется наиболее подходящим. После того как вы выбрали распределение $F_0$, проверьте соответствующую гипотезу согласия. Конкретнее, проверьте гипотезу\n",
        "$$\n",
        "H_0: X_1,..,X_n \\sim F_0\n",
        "$$\n",
        "против альтернативы\n",
        "$$\n",
        "H_A: X_1,..,X_n \\nsim F_0\n",
        "$$\n",
        "\n",
        "\n",
        "Такую гипотезу часто проверяют с помощью статистики критерия Колмогорова-Смирнова:\n",
        "$$\n",
        "D = \\sqrt{n} \\sup_x \\vert F_{0} - \\hat{F}(x)\\vert,\n",
        "$$\n",
        "где $\\hat{F}$ -- эмпирическая функция распределения, которая задётся как\n",
        "$$\n",
        "\\hat{F}(x) = \\frac{1}{n}\\sum_{i=1}^n \\mathbb{1}(X_i \\leq x).\n",
        "$$\n",
        "Выражение $1(условие)$ равно $1$, если условие верно и $0$ в противном случае -- так выше считается количество элементов выборки $\\leq x$. Статистика $D$ при больших $n$ (сотен уже достаточно) имеет распределение Колмогорова, так что можно построить критерий для проверки. Чтобы упростить техническую часть с подсчётом $D$, воспользуйтесь готовым тестом из пакета scipy.stats."
      ]
    },
    {
      "cell_type": "code",
      "execution_count": null,
      "metadata": {
        "colab": {
          "base_uri": "https://localhost:8080/"
        },
        "execution": {
          "iopub.execute_input": "2024-11-03T12:41:06.205699Z",
          "iopub.status.busy": "2024-11-03T12:41:06.205304Z",
          "iopub.status.idle": "2024-11-03T12:41:06.361753Z",
          "shell.execute_reply": "2024-11-03T12:41:06.360385Z",
          "shell.execute_reply.started": "2024-11-03T12:41:06.205659Z"
        },
        "id": "LrDmf-kbaumP",
        "outputId": "4b5d2aed-5d06-4fce-f4eb-06dffa2ffc8d",
        "trusted": true
      },
      "outputs": [
        {
          "ename": "",
          "evalue": "",
          "output_type": "error",
          "traceback": [
            "\u001b[1;31mДля выполнения ячеек с \"Python 3.12.4\" требуется пакет ipykernel.\n",
            "\u001b[1;31mВыполните следующую команду, чтобы установить \"ipykernel\" в среде Python. \n",
            "\u001b[1;31mКоманда: \"/opt/homebrew/bin/python3 -m pip install ipykernel -U --user --force-reinstall\""
          ]
        }
      ],
      "source": [
        "dist = stats.lognorm\n",
        "params = dist.fit(rapid_games['length'])\n",
        "stats.kstest(rapid_games['length'], dist.cdf, args=params)"
      ]
    },
    {
      "cell_type": "markdown",
      "metadata": {
        "id": "0iEj8wNFaumP"
      },
      "source": [
        "Объясните, почему получилось такое значение несмотря на то, что подобранное вами распределение достаточно неплохо описывает данные? Подумайте, можно ли как-то изменить процедуру проверки для того чтобы можно было воспользоваться этим тестом? Обратите внимание на две вещи:\n",
        "1. Как считается статистка критерия КС и почему для наших данных эмпирическая функция распределения никогда не будет сходится к функции распределения выбранного вами распределения? Как можно сделать дискретные данные  не-дискретными?\n",
        "2.  Обратите внимание на выброс в данных в районе где достигается значение статистики критерия (statistic location). С чем может быть связан этот выброс и как можно было бы его устранить?\n",
        "\n",
        "Опишите и реализуйте измененную процедуру."
      ]
    },
    {
      "cell_type": "markdown",
      "metadata": {
        "id": "hMalu0S_aumP"
      },
      "source": [
        "Тест Колмогорова-Смирнова чувствителен к дискретности данных. Наши данные в длинах партий имеют дискретные значения, а распределение, которое мы используем  для проверки, является непрерывным.\n",
        "\n",
        "Из-за дискретности данных эмпирическая функция распределения имеет резкие ступенчатые изменения, а кумулятивная функция непрерывного распределения изменяется плавно. Поэтому есть значительные различия между эмпирической и теоретической функциями в некоторых точках, что увеличивает статистику.\n",
        "\n",
        "\n",
        "Также видно, что статистика достигает максимума в определенной области (statistic_location=53).\n",
        "Этот выброс может быть связан с некоторыми аномальными значениями, которые значительно отличаются от остальной части распределения. Такие выбросы могут повлиять на результат теста.\n",
        "\n",
        "Можно добавить небольшое случайное \"шумовое\" значение к длинам партий, чтобы сделать данные менее дискретными и ближе к непрерывному распределению. Это поможет эмпирической функции распределения более плавно приближаться к теоретической функции распределения.\n",
        "Перед выполнением теста можно удалить выбросы."
      ]
    },
    {
      "cell_type": "code",
      "execution_count": null,
      "metadata": {
        "colab": {
          "base_uri": "https://localhost:8080/"
        },
        "execution": {
          "iopub.execute_input": "2024-11-03T12:41:06.373542Z",
          "iopub.status.busy": "2024-11-03T12:41:06.373102Z",
          "iopub.status.idle": "2024-11-03T12:41:06.388646Z",
          "shell.execute_reply": "2024-11-03T12:41:06.387376Z",
          "shell.execute_reply.started": "2024-11-03T12:41:06.373486Z"
        },
        "id": "kgBSa9CuaumP",
        "outputId": "f2620449-ed09-4669-ab7c-5ae0426985ae",
        "trusted": true
      },
      "outputs": [
        {
          "ename": "",
          "evalue": "",
          "output_type": "error",
          "traceback": [
            "\u001b[1;31mДля выполнения ячеек с \"Python 3.12.4\" требуется пакет ipykernel.\n",
            "\u001b[1;31mВыполните следующую команду, чтобы установить \"ipykernel\" в среде Python. \n",
            "\u001b[1;31mКоманда: \"/opt/homebrew/bin/python3 -m pip install ipykernel -U --user --force-reinstall\""
          ]
        }
      ],
      "source": [
        "rapid_games['length_noisy'] = rapid_games['length'] + np.random.normal(0, 0.5, size=len(rapid_games))\n",
        "\n",
        "Q1 = np.percentile(rapid_games['length_noisy'], 25)\n",
        "Q3 = np.percentile(rapid_games['length_noisy'], 75)\n",
        "IQR = Q3 - Q1\n",
        "lower_bound = Q1 - 1.5 * IQR\n",
        "upper_bound = Q3 + 1.5 * IQR\n",
        "\n",
        "filtered_data = rapid_games[(rapid_games['length_noisy'] >= lower_bound) & (rapid_games['length_noisy'] <= upper_bound)]['length_noisy']"
      ]
    },
    {
      "cell_type": "code",
      "execution_count": null,
      "metadata": {
        "colab": {
          "base_uri": "https://localhost:8080/"
        },
        "id": "bIIrVzBk-7Yr",
        "outputId": "46aea4eb-6b48-44e8-ed61-3d4b574557c6"
      },
      "outputs": [
        {
          "ename": "",
          "evalue": "",
          "output_type": "error",
          "traceback": [
            "\u001b[1;31mДля выполнения ячеек с \"Python 3.12.4\" требуется пакет ipykernel.\n",
            "\u001b[1;31mВыполните следующую команду, чтобы установить \"ipykernel\" в среде Python. \n",
            "\u001b[1;31mКоманда: \"/opt/homebrew/bin/python3 -m pip install ipykernel -U --user --force-reinstall\""
          ]
        }
      ],
      "source": [
        "params = stats.lognorm.fit(filtered_data)\n",
        "\n",
        "stats.kstest(filtered_data, stats.lognorm.cdf, args=params)"
      ]
    }
  ],
  "metadata": {
    "colab": {
      "provenance": []
    },
    "kaggle": {
      "accelerator": "none",
      "dataSources": [
        {
          "databundleVersionId": 10033477,
          "datasetId": 5978579,
          "sourceId": 9789639,
          "sourceType": "datasetVersion"
        }
      ],
      "dockerImageVersionId": 30786,
      "isGpuEnabled": false,
      "isInternetEnabled": true,
      "language": "python",
      "sourceType": "notebook"
    },
    "kernelspec": {
      "display_name": "Python 3",
      "language": "python",
      "name": "python3"
    },
    "language_info": {
      "codemirror_mode": {
        "name": "ipython",
        "version": 3
      },
      "file_extension": ".py",
      "mimetype": "text/x-python",
      "name": "python",
      "nbconvert_exporter": "python",
      "pygments_lexer": "ipython3",
      "version": "3.12.4"
    }
  },
  "nbformat": 4,
  "nbformat_minor": 0
}
